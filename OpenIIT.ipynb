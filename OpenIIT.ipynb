{
  "nbformat": 4,
  "nbformat_minor": 0,
  "metadata": {
    "kernelspec": {
      "display_name": "Python 3",
      "language": "python",
      "name": "python3"
    },
    "language_info": {
      "codemirror_mode": {
        "name": "ipython",
        "version": 3
      },
      "file_extension": ".py",
      "mimetype": "text/x-python",
      "name": "python",
      "nbconvert_exporter": "python",
      "pygments_lexer": "ipython3",
      "version": "3.7.4"
    },
    "colab": {
      "name": "DataAnalytics (2).ipynb",
      "provenance": [],
      "toc_visible": true
    }
  },
  "cells": [
    {
      "cell_type": "code",
      "metadata": {
        "id": "kfusT6ypO3-c"
      },
      "source": [
        "import numpy as np\n",
        "import seaborn as sns\n",
        "import matplotlib.pyplot as plt\n",
        "import pandas as pd"
      ],
      "execution_count": null,
      "outputs": []
    },
    {
      "cell_type": "code",
      "metadata": {
        "id": "sPKLfNWKO3-2"
      },
      "source": [
        "maindata = pd.read_csv('Train_data.csv')\n",
        "data = maindata.copy()"
      ],
      "execution_count": null,
      "outputs": []
    },
    {
      "cell_type": "code",
      "metadata": {
        "colab": {
          "base_uri": "https://localhost:8080/",
          "height": 232
        },
        "id": "zC3vG0m3O3-4",
        "outputId": "10071ee6-706b-4aab-c267-a3aa61f4e1f6"
      },
      "source": [
        "data = maindata\n",
        "data.head()"
      ],
      "execution_count": null,
      "outputs": [
        {
          "output_type": "execute_result",
          "data": {
            "text/html": [
              "<div>\n",
              "<style scoped>\n",
              "    .dataframe tbody tr th:only-of-type {\n",
              "        vertical-align: middle;\n",
              "    }\n",
              "\n",
              "    .dataframe tbody tr th {\n",
              "        vertical-align: top;\n",
              "    }\n",
              "\n",
              "    .dataframe thead th {\n",
              "        text-align: right;\n",
              "    }\n",
              "</style>\n",
              "<table border=\"1\" class=\"dataframe\">\n",
              "  <thead>\n",
              "    <tr style=\"text-align: right;\">\n",
              "      <th></th>\n",
              "      <th>id</th>\n",
              "      <th>acousticness</th>\n",
              "      <th>danceability</th>\n",
              "      <th>energy</th>\n",
              "      <th>explicit</th>\n",
              "      <th>instrumentalness</th>\n",
              "      <th>key</th>\n",
              "      <th>liveness</th>\n",
              "      <th>loudness</th>\n",
              "      <th>mode</th>\n",
              "      <th>release_date</th>\n",
              "      <th>speechiness</th>\n",
              "      <th>tempo</th>\n",
              "      <th>valence</th>\n",
              "      <th>year</th>\n",
              "      <th>duration-min</th>\n",
              "      <th>popularity</th>\n",
              "    </tr>\n",
              "  </thead>\n",
              "  <tbody>\n",
              "    <tr>\n",
              "      <th>0</th>\n",
              "      <td>2015</td>\n",
              "      <td>0.949</td>\n",
              "      <td>0.235</td>\n",
              "      <td>0.0276</td>\n",
              "      <td>No</td>\n",
              "      <td>0.9270</td>\n",
              "      <td>5</td>\n",
              "      <td>0.513</td>\n",
              "      <td>-27.398</td>\n",
              "      <td>Major</td>\n",
              "      <td>01-01-1947</td>\n",
              "      <td>0.0381</td>\n",
              "      <td>110.838</td>\n",
              "      <td>0.0398</td>\n",
              "      <td>1947</td>\n",
              "      <td>3.0</td>\n",
              "      <td>very low</td>\n",
              "    </tr>\n",
              "    <tr>\n",
              "      <th>1</th>\n",
              "      <td>15901</td>\n",
              "      <td>0.855</td>\n",
              "      <td>0.456</td>\n",
              "      <td>0.4850</td>\n",
              "      <td>No</td>\n",
              "      <td>0.0884</td>\n",
              "      <td>4</td>\n",
              "      <td>0.151</td>\n",
              "      <td>-10.046</td>\n",
              "      <td>Major</td>\n",
              "      <td>13-11-2020</td>\n",
              "      <td>0.0437</td>\n",
              "      <td>152.066</td>\n",
              "      <td>0.8590</td>\n",
              "      <td>2020</td>\n",
              "      <td>2.4</td>\n",
              "      <td>low</td>\n",
              "    </tr>\n",
              "    <tr>\n",
              "      <th>2</th>\n",
              "      <td>9002</td>\n",
              "      <td>0.827</td>\n",
              "      <td>0.495</td>\n",
              "      <td>0.4990</td>\n",
              "      <td>No</td>\n",
              "      <td>0.0000</td>\n",
              "      <td>0</td>\n",
              "      <td>0.401</td>\n",
              "      <td>-8.009</td>\n",
              "      <td>Minor</td>\n",
              "      <td>01-01-1950</td>\n",
              "      <td>0.0474</td>\n",
              "      <td>108.004</td>\n",
              "      <td>0.7090</td>\n",
              "      <td>1950</td>\n",
              "      <td>2.6</td>\n",
              "      <td>very low</td>\n",
              "    </tr>\n",
              "    <tr>\n",
              "      <th>3</th>\n",
              "      <td>6734</td>\n",
              "      <td>0.654</td>\n",
              "      <td>0.643</td>\n",
              "      <td>0.4690</td>\n",
              "      <td>No</td>\n",
              "      <td>0.1080</td>\n",
              "      <td>7</td>\n",
              "      <td>0.218</td>\n",
              "      <td>-15.917</td>\n",
              "      <td>Major</td>\n",
              "      <td>30-04-1974</td>\n",
              "      <td>0.0368</td>\n",
              "      <td>83.636</td>\n",
              "      <td>0.9640</td>\n",
              "      <td>1974</td>\n",
              "      <td>2.4</td>\n",
              "      <td>low</td>\n",
              "    </tr>\n",
              "    <tr>\n",
              "      <th>4</th>\n",
              "      <td>15563</td>\n",
              "      <td>0.738</td>\n",
              "      <td>0.705</td>\n",
              "      <td>0.3110</td>\n",
              "      <td>No</td>\n",
              "      <td>0.0000</td>\n",
              "      <td>5</td>\n",
              "      <td>0.322</td>\n",
              "      <td>-12.344</td>\n",
              "      <td>Major</td>\n",
              "      <td>01-01-1973</td>\n",
              "      <td>0.0488</td>\n",
              "      <td>117.260</td>\n",
              "      <td>0.7850</td>\n",
              "      <td>1973</td>\n",
              "      <td>3.4</td>\n",
              "      <td>average</td>\n",
              "    </tr>\n",
              "  </tbody>\n",
              "</table>\n",
              "</div>"
            ],
            "text/plain": [
              "      id  acousticness  danceability  ...  year duration-min  popularity\n",
              "0   2015         0.949         0.235  ...  1947          3.0    very low\n",
              "1  15901         0.855         0.456  ...  2020          2.4         low\n",
              "2   9002         0.827         0.495  ...  1950          2.6    very low\n",
              "3   6734         0.654         0.643  ...  1974          2.4         low\n",
              "4  15563         0.738         0.705  ...  1973          3.4     average\n",
              "\n",
              "[5 rows x 17 columns]"
            ]
          },
          "metadata": {
            "tags": []
          },
          "execution_count": 3
        }
      ]
    },
    {
      "cell_type": "markdown",
      "metadata": {
        "id": "5OZp3gpkO3-_"
      },
      "source": [
        "## Train Test Splitting of Data"
      ]
    },
    {
      "cell_type": "code",
      "metadata": {
        "id": "xLGB1DeQO3_A"
      },
      "source": [
        "train_data = data.loc[0:8227]\n",
        "test_data = data.loc[8227:]"
      ],
      "execution_count": null,
      "outputs": []
    },
    {
      "cell_type": "code",
      "metadata": {
        "id": "6sNZhPpCO3_B",
        "outputId": "6d931ccc-9b96-4fd0-935c-895a9bc25da8"
      },
      "source": [
        "train_data.head()"
      ],
      "execution_count": null,
      "outputs": [
        {
          "output_type": "execute_result",
          "data": {
            "text/html": [
              "<div>\n",
              "<style scoped>\n",
              "    .dataframe tbody tr th:only-of-type {\n",
              "        vertical-align: middle;\n",
              "    }\n",
              "\n",
              "    .dataframe tbody tr th {\n",
              "        vertical-align: top;\n",
              "    }\n",
              "\n",
              "    .dataframe thead th {\n",
              "        text-align: right;\n",
              "    }\n",
              "</style>\n",
              "<table border=\"1\" class=\"dataframe\">\n",
              "  <thead>\n",
              "    <tr style=\"text-align: right;\">\n",
              "      <th></th>\n",
              "      <th>id</th>\n",
              "      <th>acousticness</th>\n",
              "      <th>danceability</th>\n",
              "      <th>energy</th>\n",
              "      <th>explicit</th>\n",
              "      <th>instrumentalness</th>\n",
              "      <th>key</th>\n",
              "      <th>liveness</th>\n",
              "      <th>loudness</th>\n",
              "      <th>mode</th>\n",
              "      <th>release_date</th>\n",
              "      <th>speechiness</th>\n",
              "      <th>tempo</th>\n",
              "      <th>valence</th>\n",
              "      <th>year</th>\n",
              "      <th>duration-min</th>\n",
              "      <th>popularity</th>\n",
              "    </tr>\n",
              "  </thead>\n",
              "  <tbody>\n",
              "    <tr>\n",
              "      <td>0</td>\n",
              "      <td>2015</td>\n",
              "      <td>0.949</td>\n",
              "      <td>0.235</td>\n",
              "      <td>0.0276</td>\n",
              "      <td>No</td>\n",
              "      <td>0.9270</td>\n",
              "      <td>5</td>\n",
              "      <td>0.513</td>\n",
              "      <td>-27.398</td>\n",
              "      <td>Major</td>\n",
              "      <td>01-01-1947</td>\n",
              "      <td>0.0381</td>\n",
              "      <td>110.838</td>\n",
              "      <td>0.0398</td>\n",
              "      <td>1947</td>\n",
              "      <td>3.0</td>\n",
              "      <td>very low</td>\n",
              "    </tr>\n",
              "    <tr>\n",
              "      <td>1</td>\n",
              "      <td>15901</td>\n",
              "      <td>0.855</td>\n",
              "      <td>0.456</td>\n",
              "      <td>0.4850</td>\n",
              "      <td>No</td>\n",
              "      <td>0.0884</td>\n",
              "      <td>4</td>\n",
              "      <td>0.151</td>\n",
              "      <td>-10.046</td>\n",
              "      <td>Major</td>\n",
              "      <td>13-11-2020</td>\n",
              "      <td>0.0437</td>\n",
              "      <td>152.066</td>\n",
              "      <td>0.8590</td>\n",
              "      <td>2020</td>\n",
              "      <td>2.4</td>\n",
              "      <td>low</td>\n",
              "    </tr>\n",
              "    <tr>\n",
              "      <td>2</td>\n",
              "      <td>9002</td>\n",
              "      <td>0.827</td>\n",
              "      <td>0.495</td>\n",
              "      <td>0.4990</td>\n",
              "      <td>No</td>\n",
              "      <td>0.0000</td>\n",
              "      <td>0</td>\n",
              "      <td>0.401</td>\n",
              "      <td>-8.009</td>\n",
              "      <td>Minor</td>\n",
              "      <td>01-01-1950</td>\n",
              "      <td>0.0474</td>\n",
              "      <td>108.004</td>\n",
              "      <td>0.7090</td>\n",
              "      <td>1950</td>\n",
              "      <td>2.6</td>\n",
              "      <td>very low</td>\n",
              "    </tr>\n",
              "    <tr>\n",
              "      <td>3</td>\n",
              "      <td>6734</td>\n",
              "      <td>0.654</td>\n",
              "      <td>0.643</td>\n",
              "      <td>0.4690</td>\n",
              "      <td>No</td>\n",
              "      <td>0.1080</td>\n",
              "      <td>7</td>\n",
              "      <td>0.218</td>\n",
              "      <td>-15.917</td>\n",
              "      <td>Major</td>\n",
              "      <td>30-04-1974</td>\n",
              "      <td>0.0368</td>\n",
              "      <td>83.636</td>\n",
              "      <td>0.9640</td>\n",
              "      <td>1974</td>\n",
              "      <td>2.4</td>\n",
              "      <td>low</td>\n",
              "    </tr>\n",
              "    <tr>\n",
              "      <td>4</td>\n",
              "      <td>15563</td>\n",
              "      <td>0.738</td>\n",
              "      <td>0.705</td>\n",
              "      <td>0.3110</td>\n",
              "      <td>No</td>\n",
              "      <td>0.0000</td>\n",
              "      <td>5</td>\n",
              "      <td>0.322</td>\n",
              "      <td>-12.344</td>\n",
              "      <td>Major</td>\n",
              "      <td>01-01-1973</td>\n",
              "      <td>0.0488</td>\n",
              "      <td>117.260</td>\n",
              "      <td>0.7850</td>\n",
              "      <td>1973</td>\n",
              "      <td>3.4</td>\n",
              "      <td>average</td>\n",
              "    </tr>\n",
              "  </tbody>\n",
              "</table>\n",
              "</div>"
            ],
            "text/plain": [
              "      id  acousticness  danceability  energy explicit  instrumentalness  key  \\\n",
              "0   2015         0.949         0.235  0.0276       No            0.9270    5   \n",
              "1  15901         0.855         0.456  0.4850       No            0.0884    4   \n",
              "2   9002         0.827         0.495  0.4990       No            0.0000    0   \n",
              "3   6734         0.654         0.643  0.4690       No            0.1080    7   \n",
              "4  15563         0.738         0.705  0.3110       No            0.0000    5   \n",
              "\n",
              "   liveness  loudness   mode release_date  speechiness    tempo  valence  \\\n",
              "0     0.513   -27.398  Major   01-01-1947       0.0381  110.838   0.0398   \n",
              "1     0.151   -10.046  Major   13-11-2020       0.0437  152.066   0.8590   \n",
              "2     0.401    -8.009  Minor   01-01-1950       0.0474  108.004   0.7090   \n",
              "3     0.218   -15.917  Major   30-04-1974       0.0368   83.636   0.9640   \n",
              "4     0.322   -12.344  Major   01-01-1973       0.0488  117.260   0.7850   \n",
              "\n",
              "   year  duration-min popularity  \n",
              "0  1947           3.0   very low  \n",
              "1  2020           2.4        low  \n",
              "2  1950           2.6   very low  \n",
              "3  1974           2.4        low  \n",
              "4  1973           3.4    average  "
            ]
          },
          "metadata": {
            "tags": []
          },
          "execution_count": 6
        }
      ]
    },
    {
      "cell_type": "markdown",
      "metadata": {
        "id": "tsxpBffpO3_B"
      },
      "source": [
        "## Data Preprocessing"
      ]
    },
    {
      "cell_type": "code",
      "metadata": {
        "id": "bsV_FH_4O3_C",
        "outputId": "fcb43abd-9101-442e-f2f8-da7950b9a596"
      },
      "source": [
        "train_data.info()"
      ],
      "execution_count": null,
      "outputs": [
        {
          "output_type": "stream",
          "text": [
            "<class 'pandas.core.frame.DataFrame'>\n",
            "RangeIndex: 8228 entries, 0 to 8227\n",
            "Data columns (total 17 columns):\n",
            "id                  8228 non-null int64\n",
            "acousticness        8228 non-null float64\n",
            "danceability        8228 non-null float64\n",
            "energy              8228 non-null float64\n",
            "explicit            8228 non-null object\n",
            "instrumentalness    8228 non-null float64\n",
            "key                 8228 non-null int64\n",
            "liveness            8228 non-null float64\n",
            "loudness            8228 non-null float64\n",
            "mode                8228 non-null object\n",
            "release_date        8228 non-null object\n",
            "speechiness         8228 non-null float64\n",
            "tempo               8228 non-null float64\n",
            "valence             8228 non-null float64\n",
            "year                8228 non-null int64\n",
            "duration-min        8228 non-null float64\n",
            "popularity          8228 non-null object\n",
            "dtypes: float64(10), int64(3), object(4)\n",
            "memory usage: 1.1+ MB\n"
          ],
          "name": "stdout"
        }
      ]
    },
    {
      "cell_type": "code",
      "metadata": {
        "id": "-jaI5e0cO3_C",
        "outputId": "123f089d-86cf-4df4-dbfa-6493cbaf89e7"
      },
      "source": [
        "train_data.columns"
      ],
      "execution_count": null,
      "outputs": [
        {
          "output_type": "execute_result",
          "data": {
            "text/plain": [
              "Index(['id', 'acousticness', 'danceability', 'energy', 'explicit',\n",
              "       'instrumentalness', 'key', 'liveness', 'loudness', 'mode',\n",
              "       'release_date', 'speechiness', 'tempo', 'valence', 'year',\n",
              "       'duration-min', 'popularity'],\n",
              "      dtype='object')"
            ]
          },
          "metadata": {
            "tags": []
          },
          "execution_count": 8
        }
      ]
    },
    {
      "cell_type": "code",
      "metadata": {
        "colab": {
          "base_uri": "https://localhost:8080/",
          "height": 232
        },
        "id": "HZrrgFXAO3_D",
        "outputId": "045063ed-7a19-471e-a14a-d1b5b809b23f"
      },
      "source": [
        "# Onehot encoding for the columns explicit and mode\n",
        "train_data = pd.get_dummies(train_data,columns = ['explicit','mode'])\n",
        "train_data.head()"
      ],
      "execution_count": null,
      "outputs": [
        {
          "output_type": "execute_result",
          "data": {
            "text/html": [
              "<div>\n",
              "<style scoped>\n",
              "    .dataframe tbody tr th:only-of-type {\n",
              "        vertical-align: middle;\n",
              "    }\n",
              "\n",
              "    .dataframe tbody tr th {\n",
              "        vertical-align: top;\n",
              "    }\n",
              "\n",
              "    .dataframe thead th {\n",
              "        text-align: right;\n",
              "    }\n",
              "</style>\n",
              "<table border=\"1\" class=\"dataframe\">\n",
              "  <thead>\n",
              "    <tr style=\"text-align: right;\">\n",
              "      <th></th>\n",
              "      <th>id</th>\n",
              "      <th>acousticness</th>\n",
              "      <th>danceability</th>\n",
              "      <th>energy</th>\n",
              "      <th>instrumentalness</th>\n",
              "      <th>key</th>\n",
              "      <th>liveness</th>\n",
              "      <th>loudness</th>\n",
              "      <th>release_date</th>\n",
              "      <th>speechiness</th>\n",
              "      <th>tempo</th>\n",
              "      <th>valence</th>\n",
              "      <th>year</th>\n",
              "      <th>duration-min</th>\n",
              "      <th>popularity</th>\n",
              "      <th>explicit_No</th>\n",
              "      <th>explicit_Yes</th>\n",
              "      <th>mode_Major</th>\n",
              "      <th>mode_Minor</th>\n",
              "    </tr>\n",
              "  </thead>\n",
              "  <tbody>\n",
              "    <tr>\n",
              "      <th>0</th>\n",
              "      <td>2015</td>\n",
              "      <td>0.949</td>\n",
              "      <td>0.235</td>\n",
              "      <td>0.0276</td>\n",
              "      <td>0.9270</td>\n",
              "      <td>5</td>\n",
              "      <td>0.513</td>\n",
              "      <td>-27.398</td>\n",
              "      <td>01-01-1947</td>\n",
              "      <td>0.0381</td>\n",
              "      <td>110.838</td>\n",
              "      <td>0.0398</td>\n",
              "      <td>1947</td>\n",
              "      <td>3.0</td>\n",
              "      <td>very low</td>\n",
              "      <td>1</td>\n",
              "      <td>0</td>\n",
              "      <td>1</td>\n",
              "      <td>0</td>\n",
              "    </tr>\n",
              "    <tr>\n",
              "      <th>1</th>\n",
              "      <td>15901</td>\n",
              "      <td>0.855</td>\n",
              "      <td>0.456</td>\n",
              "      <td>0.4850</td>\n",
              "      <td>0.0884</td>\n",
              "      <td>4</td>\n",
              "      <td>0.151</td>\n",
              "      <td>-10.046</td>\n",
              "      <td>13-11-2020</td>\n",
              "      <td>0.0437</td>\n",
              "      <td>152.066</td>\n",
              "      <td>0.8590</td>\n",
              "      <td>2020</td>\n",
              "      <td>2.4</td>\n",
              "      <td>low</td>\n",
              "      <td>1</td>\n",
              "      <td>0</td>\n",
              "      <td>1</td>\n",
              "      <td>0</td>\n",
              "    </tr>\n",
              "    <tr>\n",
              "      <th>2</th>\n",
              "      <td>9002</td>\n",
              "      <td>0.827</td>\n",
              "      <td>0.495</td>\n",
              "      <td>0.4990</td>\n",
              "      <td>0.0000</td>\n",
              "      <td>0</td>\n",
              "      <td>0.401</td>\n",
              "      <td>-8.009</td>\n",
              "      <td>01-01-1950</td>\n",
              "      <td>0.0474</td>\n",
              "      <td>108.004</td>\n",
              "      <td>0.7090</td>\n",
              "      <td>1950</td>\n",
              "      <td>2.6</td>\n",
              "      <td>very low</td>\n",
              "      <td>1</td>\n",
              "      <td>0</td>\n",
              "      <td>0</td>\n",
              "      <td>1</td>\n",
              "    </tr>\n",
              "    <tr>\n",
              "      <th>3</th>\n",
              "      <td>6734</td>\n",
              "      <td>0.654</td>\n",
              "      <td>0.643</td>\n",
              "      <td>0.4690</td>\n",
              "      <td>0.1080</td>\n",
              "      <td>7</td>\n",
              "      <td>0.218</td>\n",
              "      <td>-15.917</td>\n",
              "      <td>30-04-1974</td>\n",
              "      <td>0.0368</td>\n",
              "      <td>83.636</td>\n",
              "      <td>0.9640</td>\n",
              "      <td>1974</td>\n",
              "      <td>2.4</td>\n",
              "      <td>low</td>\n",
              "      <td>1</td>\n",
              "      <td>0</td>\n",
              "      <td>1</td>\n",
              "      <td>0</td>\n",
              "    </tr>\n",
              "    <tr>\n",
              "      <th>4</th>\n",
              "      <td>15563</td>\n",
              "      <td>0.738</td>\n",
              "      <td>0.705</td>\n",
              "      <td>0.3110</td>\n",
              "      <td>0.0000</td>\n",
              "      <td>5</td>\n",
              "      <td>0.322</td>\n",
              "      <td>-12.344</td>\n",
              "      <td>01-01-1973</td>\n",
              "      <td>0.0488</td>\n",
              "      <td>117.260</td>\n",
              "      <td>0.7850</td>\n",
              "      <td>1973</td>\n",
              "      <td>3.4</td>\n",
              "      <td>average</td>\n",
              "      <td>1</td>\n",
              "      <td>0</td>\n",
              "      <td>1</td>\n",
              "      <td>0</td>\n",
              "    </tr>\n",
              "  </tbody>\n",
              "</table>\n",
              "</div>"
            ],
            "text/plain": [
              "      id  acousticness  danceability  ...  explicit_Yes  mode_Major  mode_Minor\n",
              "0   2015         0.949         0.235  ...             0           1           0\n",
              "1  15901         0.855         0.456  ...             0           1           0\n",
              "2   9002         0.827         0.495  ...             0           0           1\n",
              "3   6734         0.654         0.643  ...             0           1           0\n",
              "4  15563         0.738         0.705  ...             0           1           0\n",
              "\n",
              "[5 rows x 19 columns]"
            ]
          },
          "metadata": {
            "tags": []
          },
          "execution_count": 5
        }
      ]
    },
    {
      "cell_type": "code",
      "metadata": {
        "colab": {
          "base_uri": "https://localhost:8080/",
          "height": 232
        },
        "id": "tJmdZBy5O3_E",
        "outputId": "549f67ae-8b08-4ae1-8f33-3e1b9e9f64a3"
      },
      "source": [
        "#Extracting the month from release date column\n",
        "train_data['release_month'] = pd.to_datetime(train_data['release_date']).dt.month\n",
        "train_data.head()"
      ],
      "execution_count": null,
      "outputs": [
        {
          "output_type": "execute_result",
          "data": {
            "text/html": [
              "<div>\n",
              "<style scoped>\n",
              "    .dataframe tbody tr th:only-of-type {\n",
              "        vertical-align: middle;\n",
              "    }\n",
              "\n",
              "    .dataframe tbody tr th {\n",
              "        vertical-align: top;\n",
              "    }\n",
              "\n",
              "    .dataframe thead th {\n",
              "        text-align: right;\n",
              "    }\n",
              "</style>\n",
              "<table border=\"1\" class=\"dataframe\">\n",
              "  <thead>\n",
              "    <tr style=\"text-align: right;\">\n",
              "      <th></th>\n",
              "      <th>id</th>\n",
              "      <th>acousticness</th>\n",
              "      <th>danceability</th>\n",
              "      <th>energy</th>\n",
              "      <th>instrumentalness</th>\n",
              "      <th>key</th>\n",
              "      <th>liveness</th>\n",
              "      <th>loudness</th>\n",
              "      <th>release_date</th>\n",
              "      <th>speechiness</th>\n",
              "      <th>tempo</th>\n",
              "      <th>valence</th>\n",
              "      <th>year</th>\n",
              "      <th>duration-min</th>\n",
              "      <th>popularity</th>\n",
              "      <th>explicit_No</th>\n",
              "      <th>explicit_Yes</th>\n",
              "      <th>mode_Major</th>\n",
              "      <th>mode_Minor</th>\n",
              "      <th>release_month</th>\n",
              "    </tr>\n",
              "  </thead>\n",
              "  <tbody>\n",
              "    <tr>\n",
              "      <th>0</th>\n",
              "      <td>2015</td>\n",
              "      <td>0.949</td>\n",
              "      <td>0.235</td>\n",
              "      <td>0.0276</td>\n",
              "      <td>0.9270</td>\n",
              "      <td>5</td>\n",
              "      <td>0.513</td>\n",
              "      <td>-27.398</td>\n",
              "      <td>01-01-1947</td>\n",
              "      <td>0.0381</td>\n",
              "      <td>110.838</td>\n",
              "      <td>0.0398</td>\n",
              "      <td>1947</td>\n",
              "      <td>3.0</td>\n",
              "      <td>very low</td>\n",
              "      <td>1</td>\n",
              "      <td>0</td>\n",
              "      <td>1</td>\n",
              "      <td>0</td>\n",
              "      <td>1</td>\n",
              "    </tr>\n",
              "    <tr>\n",
              "      <th>1</th>\n",
              "      <td>15901</td>\n",
              "      <td>0.855</td>\n",
              "      <td>0.456</td>\n",
              "      <td>0.4850</td>\n",
              "      <td>0.0884</td>\n",
              "      <td>4</td>\n",
              "      <td>0.151</td>\n",
              "      <td>-10.046</td>\n",
              "      <td>13-11-2020</td>\n",
              "      <td>0.0437</td>\n",
              "      <td>152.066</td>\n",
              "      <td>0.8590</td>\n",
              "      <td>2020</td>\n",
              "      <td>2.4</td>\n",
              "      <td>low</td>\n",
              "      <td>1</td>\n",
              "      <td>0</td>\n",
              "      <td>1</td>\n",
              "      <td>0</td>\n",
              "      <td>11</td>\n",
              "    </tr>\n",
              "    <tr>\n",
              "      <th>2</th>\n",
              "      <td>9002</td>\n",
              "      <td>0.827</td>\n",
              "      <td>0.495</td>\n",
              "      <td>0.4990</td>\n",
              "      <td>0.0000</td>\n",
              "      <td>0</td>\n",
              "      <td>0.401</td>\n",
              "      <td>-8.009</td>\n",
              "      <td>01-01-1950</td>\n",
              "      <td>0.0474</td>\n",
              "      <td>108.004</td>\n",
              "      <td>0.7090</td>\n",
              "      <td>1950</td>\n",
              "      <td>2.6</td>\n",
              "      <td>very low</td>\n",
              "      <td>1</td>\n",
              "      <td>0</td>\n",
              "      <td>0</td>\n",
              "      <td>1</td>\n",
              "      <td>1</td>\n",
              "    </tr>\n",
              "    <tr>\n",
              "      <th>3</th>\n",
              "      <td>6734</td>\n",
              "      <td>0.654</td>\n",
              "      <td>0.643</td>\n",
              "      <td>0.4690</td>\n",
              "      <td>0.1080</td>\n",
              "      <td>7</td>\n",
              "      <td>0.218</td>\n",
              "      <td>-15.917</td>\n",
              "      <td>30-04-1974</td>\n",
              "      <td>0.0368</td>\n",
              "      <td>83.636</td>\n",
              "      <td>0.9640</td>\n",
              "      <td>1974</td>\n",
              "      <td>2.4</td>\n",
              "      <td>low</td>\n",
              "      <td>1</td>\n",
              "      <td>0</td>\n",
              "      <td>1</td>\n",
              "      <td>0</td>\n",
              "      <td>4</td>\n",
              "    </tr>\n",
              "    <tr>\n",
              "      <th>4</th>\n",
              "      <td>15563</td>\n",
              "      <td>0.738</td>\n",
              "      <td>0.705</td>\n",
              "      <td>0.3110</td>\n",
              "      <td>0.0000</td>\n",
              "      <td>5</td>\n",
              "      <td>0.322</td>\n",
              "      <td>-12.344</td>\n",
              "      <td>01-01-1973</td>\n",
              "      <td>0.0488</td>\n",
              "      <td>117.260</td>\n",
              "      <td>0.7850</td>\n",
              "      <td>1973</td>\n",
              "      <td>3.4</td>\n",
              "      <td>average</td>\n",
              "      <td>1</td>\n",
              "      <td>0</td>\n",
              "      <td>1</td>\n",
              "      <td>0</td>\n",
              "      <td>1</td>\n",
              "    </tr>\n",
              "  </tbody>\n",
              "</table>\n",
              "</div>"
            ],
            "text/plain": [
              "      id  acousticness  danceability  ...  mode_Major  mode_Minor  release_month\n",
              "0   2015         0.949         0.235  ...           1           0              1\n",
              "1  15901         0.855         0.456  ...           1           0             11\n",
              "2   9002         0.827         0.495  ...           0           1              1\n",
              "3   6734         0.654         0.643  ...           1           0              4\n",
              "4  15563         0.738         0.705  ...           1           0              1\n",
              "\n",
              "[5 rows x 20 columns]"
            ]
          },
          "metadata": {
            "tags": []
          },
          "execution_count": 6
        }
      ]
    },
    {
      "cell_type": "code",
      "metadata": {
        "colab": {
          "base_uri": "https://localhost:8080/",
          "height": 321
        },
        "id": "M8sxluD_O3_E",
        "outputId": "4e144b5c-909d-45da-a4e3-c3a6274dbf1d"
      },
      "source": [
        "train_data.describe()"
      ],
      "execution_count": null,
      "outputs": [
        {
          "output_type": "execute_result",
          "data": {
            "text/html": [
              "<div>\n",
              "<style scoped>\n",
              "    .dataframe tbody tr th:only-of-type {\n",
              "        vertical-align: middle;\n",
              "    }\n",
              "\n",
              "    .dataframe tbody tr th {\n",
              "        vertical-align: top;\n",
              "    }\n",
              "\n",
              "    .dataframe thead th {\n",
              "        text-align: right;\n",
              "    }\n",
              "</style>\n",
              "<table border=\"1\" class=\"dataframe\">\n",
              "  <thead>\n",
              "    <tr style=\"text-align: right;\">\n",
              "      <th></th>\n",
              "      <th>id</th>\n",
              "      <th>acousticness</th>\n",
              "      <th>danceability</th>\n",
              "      <th>energy</th>\n",
              "      <th>instrumentalness</th>\n",
              "      <th>key</th>\n",
              "      <th>liveness</th>\n",
              "      <th>loudness</th>\n",
              "      <th>speechiness</th>\n",
              "      <th>tempo</th>\n",
              "      <th>valence</th>\n",
              "      <th>year</th>\n",
              "      <th>duration-min</th>\n",
              "      <th>explicit_No</th>\n",
              "      <th>explicit_Yes</th>\n",
              "      <th>mode_Major</th>\n",
              "      <th>mode_Minor</th>\n",
              "      <th>release_month</th>\n",
              "    </tr>\n",
              "  </thead>\n",
              "  <tbody>\n",
              "    <tr>\n",
              "      <th>count</th>\n",
              "      <td>8228.000000</td>\n",
              "      <td>8228.000000</td>\n",
              "      <td>8228.000000</td>\n",
              "      <td>8228.000000</td>\n",
              "      <td>8228.000000</td>\n",
              "      <td>8228.000000</td>\n",
              "      <td>8228.000000</td>\n",
              "      <td>8228.000000</td>\n",
              "      <td>8228.000000</td>\n",
              "      <td>8228.000000</td>\n",
              "      <td>8228.000000</td>\n",
              "      <td>8228.000000</td>\n",
              "      <td>8228.000000</td>\n",
              "      <td>8228.000000</td>\n",
              "      <td>8228.000000</td>\n",
              "      <td>8228.000000</td>\n",
              "      <td>8228.000000</td>\n",
              "      <td>8228.000000</td>\n",
              "    </tr>\n",
              "    <tr>\n",
              "      <th>mean</th>\n",
              "      <td>8098.652042</td>\n",
              "      <td>0.425265</td>\n",
              "      <td>0.555895</td>\n",
              "      <td>0.525297</td>\n",
              "      <td>0.148102</td>\n",
              "      <td>5.240034</td>\n",
              "      <td>0.201539</td>\n",
              "      <td>-10.615426</td>\n",
              "      <td>0.096535</td>\n",
              "      <td>118.528524</td>\n",
              "      <td>0.524472</td>\n",
              "      <td>1984.764220</td>\n",
              "      <td>3.864390</td>\n",
              "      <td>0.892319</td>\n",
              "      <td>0.107681</td>\n",
              "      <td>0.693000</td>\n",
              "      <td>0.307000</td>\n",
              "      <td>4.261424</td>\n",
              "    </tr>\n",
              "    <tr>\n",
              "      <th>std</th>\n",
              "      <td>4685.544913</td>\n",
              "      <td>0.365819</td>\n",
              "      <td>0.175541</td>\n",
              "      <td>0.261506</td>\n",
              "      <td>0.296930</td>\n",
              "      <td>3.524540</td>\n",
              "      <td>0.175186</td>\n",
              "      <td>5.454241</td>\n",
              "      <td>0.154037</td>\n",
              "      <td>30.401471</td>\n",
              "      <td>0.256658</td>\n",
              "      <td>25.816904</td>\n",
              "      <td>2.102581</td>\n",
              "      <td>0.309996</td>\n",
              "      <td>0.309996</td>\n",
              "      <td>0.461278</td>\n",
              "      <td>0.461278</td>\n",
              "      <td>3.936420</td>\n",
              "    </tr>\n",
              "    <tr>\n",
              "      <th>min</th>\n",
              "      <td>1.000000</td>\n",
              "      <td>0.000001</td>\n",
              "      <td>0.000000</td>\n",
              "      <td>0.000020</td>\n",
              "      <td>0.000000</td>\n",
              "      <td>0.000000</td>\n",
              "      <td>0.014700</td>\n",
              "      <td>-41.594000</td>\n",
              "      <td>0.000000</td>\n",
              "      <td>0.000000</td>\n",
              "      <td>0.000000</td>\n",
              "      <td>1920.000000</td>\n",
              "      <td>0.200000</td>\n",
              "      <td>0.000000</td>\n",
              "      <td>0.000000</td>\n",
              "      <td>0.000000</td>\n",
              "      <td>0.000000</td>\n",
              "      <td>1.000000</td>\n",
              "    </tr>\n",
              "    <tr>\n",
              "      <th>25%</th>\n",
              "      <td>4054.500000</td>\n",
              "      <td>0.057800</td>\n",
              "      <td>0.435000</td>\n",
              "      <td>0.308000</td>\n",
              "      <td>0.000000</td>\n",
              "      <td>2.000000</td>\n",
              "      <td>0.095900</td>\n",
              "      <td>-13.615000</td>\n",
              "      <td>0.034600</td>\n",
              "      <td>95.209500</td>\n",
              "      <td>0.322000</td>\n",
              "      <td>1966.000000</td>\n",
              "      <td>2.900000</td>\n",
              "      <td>1.000000</td>\n",
              "      <td>0.000000</td>\n",
              "      <td>0.000000</td>\n",
              "      <td>0.000000</td>\n",
              "      <td>1.000000</td>\n",
              "    </tr>\n",
              "    <tr>\n",
              "      <th>50%</th>\n",
              "      <td>8082.000000</td>\n",
              "      <td>0.340000</td>\n",
              "      <td>0.568000</td>\n",
              "      <td>0.536000</td>\n",
              "      <td>0.000107</td>\n",
              "      <td>5.000000</td>\n",
              "      <td>0.132000</td>\n",
              "      <td>-9.517000</td>\n",
              "      <td>0.045200</td>\n",
              "      <td>117.191000</td>\n",
              "      <td>0.533000</td>\n",
              "      <td>1988.000000</td>\n",
              "      <td>3.500000</td>\n",
              "      <td>1.000000</td>\n",
              "      <td>0.000000</td>\n",
              "      <td>1.000000</td>\n",
              "      <td>0.000000</td>\n",
              "      <td>2.000000</td>\n",
              "    </tr>\n",
              "    <tr>\n",
              "      <th>75%</th>\n",
              "      <td>12171.250000</td>\n",
              "      <td>0.798000</td>\n",
              "      <td>0.685000</td>\n",
              "      <td>0.742000</td>\n",
              "      <td>0.053800</td>\n",
              "      <td>8.000000</td>\n",
              "      <td>0.254000</td>\n",
              "      <td>-6.527250</td>\n",
              "      <td>0.077800</td>\n",
              "      <td>136.865000</td>\n",
              "      <td>0.735000</td>\n",
              "      <td>2008.000000</td>\n",
              "      <td>4.400000</td>\n",
              "      <td>1.000000</td>\n",
              "      <td>0.000000</td>\n",
              "      <td>1.000000</td>\n",
              "      <td>1.000000</td>\n",
              "      <td>8.000000</td>\n",
              "    </tr>\n",
              "    <tr>\n",
              "      <th>max</th>\n",
              "      <td>16225.000000</td>\n",
              "      <td>0.996000</td>\n",
              "      <td>0.980000</td>\n",
              "      <td>1.000000</td>\n",
              "      <td>1.000000</td>\n",
              "      <td>11.000000</td>\n",
              "      <td>0.994000</td>\n",
              "      <td>1.006000</td>\n",
              "      <td>0.968000</td>\n",
              "      <td>216.083000</td>\n",
              "      <td>0.993000</td>\n",
              "      <td>2021.000000</td>\n",
              "      <td>62.200000</td>\n",
              "      <td>1.000000</td>\n",
              "      <td>1.000000</td>\n",
              "      <td>1.000000</td>\n",
              "      <td>1.000000</td>\n",
              "      <td>12.000000</td>\n",
              "    </tr>\n",
              "  </tbody>\n",
              "</table>\n",
              "</div>"
            ],
            "text/plain": [
              "                 id  acousticness  ...   mode_Minor  release_month\n",
              "count   8228.000000   8228.000000  ...  8228.000000    8228.000000\n",
              "mean    8098.652042      0.425265  ...     0.307000       4.261424\n",
              "std     4685.544913      0.365819  ...     0.461278       3.936420\n",
              "min        1.000000      0.000001  ...     0.000000       1.000000\n",
              "25%     4054.500000      0.057800  ...     0.000000       1.000000\n",
              "50%     8082.000000      0.340000  ...     0.000000       2.000000\n",
              "75%    12171.250000      0.798000  ...     1.000000       8.000000\n",
              "max    16225.000000      0.996000  ...     1.000000      12.000000\n",
              "\n",
              "[8 rows x 18 columns]"
            ]
          },
          "metadata": {
            "tags": []
          },
          "execution_count": 7
        }
      ]
    },
    {
      "cell_type": "code",
      "metadata": {
        "colab": {
          "base_uri": "https://localhost:8080/"
        },
        "id": "P0v3TdPeO3_F",
        "outputId": "70f6a123-60ab-4dba-cb38-56f296d31dec"
      },
      "source": [
        "train_data['popularity'].unique()"
      ],
      "execution_count": null,
      "outputs": [
        {
          "output_type": "execute_result",
          "data": {
            "text/plain": [
              "array(['very low', 'low', 'average', 'high', 'very high'], dtype=object)"
            ]
          },
          "metadata": {
            "tags": []
          },
          "execution_count": 8
        }
      ]
    },
    {
      "cell_type": "code",
      "metadata": {
        "colab": {
          "base_uri": "https://localhost:8080/",
          "height": 232
        },
        "id": "4UOjLrWsO3_G",
        "outputId": "36a58472-6856-4727-e8ec-60f5fe16106b"
      },
      "source": [
        "#Mapping the different labels to different integers\n",
        "popularity_map = {'very low':1 ,'low':2, 'average':3, 'high':4, 'very high':5}\n",
        "train_data['popularity'] = train_data['popularity'].map(popularity_map)\n",
        "train_data.head()"
      ],
      "execution_count": null,
      "outputs": [
        {
          "output_type": "execute_result",
          "data": {
            "text/html": [
              "<div>\n",
              "<style scoped>\n",
              "    .dataframe tbody tr th:only-of-type {\n",
              "        vertical-align: middle;\n",
              "    }\n",
              "\n",
              "    .dataframe tbody tr th {\n",
              "        vertical-align: top;\n",
              "    }\n",
              "\n",
              "    .dataframe thead th {\n",
              "        text-align: right;\n",
              "    }\n",
              "</style>\n",
              "<table border=\"1\" class=\"dataframe\">\n",
              "  <thead>\n",
              "    <tr style=\"text-align: right;\">\n",
              "      <th></th>\n",
              "      <th>id</th>\n",
              "      <th>acousticness</th>\n",
              "      <th>danceability</th>\n",
              "      <th>energy</th>\n",
              "      <th>instrumentalness</th>\n",
              "      <th>key</th>\n",
              "      <th>liveness</th>\n",
              "      <th>loudness</th>\n",
              "      <th>release_date</th>\n",
              "      <th>speechiness</th>\n",
              "      <th>tempo</th>\n",
              "      <th>valence</th>\n",
              "      <th>year</th>\n",
              "      <th>duration-min</th>\n",
              "      <th>popularity</th>\n",
              "      <th>explicit_No</th>\n",
              "      <th>explicit_Yes</th>\n",
              "      <th>mode_Major</th>\n",
              "      <th>mode_Minor</th>\n",
              "      <th>release_month</th>\n",
              "    </tr>\n",
              "  </thead>\n",
              "  <tbody>\n",
              "    <tr>\n",
              "      <th>0</th>\n",
              "      <td>2015</td>\n",
              "      <td>0.949</td>\n",
              "      <td>0.235</td>\n",
              "      <td>0.0276</td>\n",
              "      <td>0.9270</td>\n",
              "      <td>5</td>\n",
              "      <td>0.513</td>\n",
              "      <td>-27.398</td>\n",
              "      <td>01-01-1947</td>\n",
              "      <td>0.0381</td>\n",
              "      <td>110.838</td>\n",
              "      <td>0.0398</td>\n",
              "      <td>1947</td>\n",
              "      <td>3.0</td>\n",
              "      <td>1</td>\n",
              "      <td>1</td>\n",
              "      <td>0</td>\n",
              "      <td>1</td>\n",
              "      <td>0</td>\n",
              "      <td>1</td>\n",
              "    </tr>\n",
              "    <tr>\n",
              "      <th>1</th>\n",
              "      <td>15901</td>\n",
              "      <td>0.855</td>\n",
              "      <td>0.456</td>\n",
              "      <td>0.4850</td>\n",
              "      <td>0.0884</td>\n",
              "      <td>4</td>\n",
              "      <td>0.151</td>\n",
              "      <td>-10.046</td>\n",
              "      <td>13-11-2020</td>\n",
              "      <td>0.0437</td>\n",
              "      <td>152.066</td>\n",
              "      <td>0.8590</td>\n",
              "      <td>2020</td>\n",
              "      <td>2.4</td>\n",
              "      <td>2</td>\n",
              "      <td>1</td>\n",
              "      <td>0</td>\n",
              "      <td>1</td>\n",
              "      <td>0</td>\n",
              "      <td>11</td>\n",
              "    </tr>\n",
              "    <tr>\n",
              "      <th>2</th>\n",
              "      <td>9002</td>\n",
              "      <td>0.827</td>\n",
              "      <td>0.495</td>\n",
              "      <td>0.4990</td>\n",
              "      <td>0.0000</td>\n",
              "      <td>0</td>\n",
              "      <td>0.401</td>\n",
              "      <td>-8.009</td>\n",
              "      <td>01-01-1950</td>\n",
              "      <td>0.0474</td>\n",
              "      <td>108.004</td>\n",
              "      <td>0.7090</td>\n",
              "      <td>1950</td>\n",
              "      <td>2.6</td>\n",
              "      <td>1</td>\n",
              "      <td>1</td>\n",
              "      <td>0</td>\n",
              "      <td>0</td>\n",
              "      <td>1</td>\n",
              "      <td>1</td>\n",
              "    </tr>\n",
              "    <tr>\n",
              "      <th>3</th>\n",
              "      <td>6734</td>\n",
              "      <td>0.654</td>\n",
              "      <td>0.643</td>\n",
              "      <td>0.4690</td>\n",
              "      <td>0.1080</td>\n",
              "      <td>7</td>\n",
              "      <td>0.218</td>\n",
              "      <td>-15.917</td>\n",
              "      <td>30-04-1974</td>\n",
              "      <td>0.0368</td>\n",
              "      <td>83.636</td>\n",
              "      <td>0.9640</td>\n",
              "      <td>1974</td>\n",
              "      <td>2.4</td>\n",
              "      <td>2</td>\n",
              "      <td>1</td>\n",
              "      <td>0</td>\n",
              "      <td>1</td>\n",
              "      <td>0</td>\n",
              "      <td>4</td>\n",
              "    </tr>\n",
              "    <tr>\n",
              "      <th>4</th>\n",
              "      <td>15563</td>\n",
              "      <td>0.738</td>\n",
              "      <td>0.705</td>\n",
              "      <td>0.3110</td>\n",
              "      <td>0.0000</td>\n",
              "      <td>5</td>\n",
              "      <td>0.322</td>\n",
              "      <td>-12.344</td>\n",
              "      <td>01-01-1973</td>\n",
              "      <td>0.0488</td>\n",
              "      <td>117.260</td>\n",
              "      <td>0.7850</td>\n",
              "      <td>1973</td>\n",
              "      <td>3.4</td>\n",
              "      <td>3</td>\n",
              "      <td>1</td>\n",
              "      <td>0</td>\n",
              "      <td>1</td>\n",
              "      <td>0</td>\n",
              "      <td>1</td>\n",
              "    </tr>\n",
              "  </tbody>\n",
              "</table>\n",
              "</div>"
            ],
            "text/plain": [
              "      id  acousticness  danceability  ...  mode_Major  mode_Minor  release_month\n",
              "0   2015         0.949         0.235  ...           1           0              1\n",
              "1  15901         0.855         0.456  ...           1           0             11\n",
              "2   9002         0.827         0.495  ...           0           1              1\n",
              "3   6734         0.654         0.643  ...           1           0              4\n",
              "4  15563         0.738         0.705  ...           1           0              1\n",
              "\n",
              "[5 rows x 20 columns]"
            ]
          },
          "metadata": {
            "tags": []
          },
          "execution_count": 9
        }
      ]
    },
    {
      "cell_type": "code",
      "metadata": {
        "id": "cRL8gycaO3_H"
      },
      "source": [
        "#Feature Scaling\n",
        "scaled_features = ['key','loudness','tempo','year','duration-min']\n",
        "for s in scaled_features:\n",
        "    train_data[s] = (train_data[s]-train_data[s].min())/(train_data[s].max()-train_data[s].min())\n"
      ],
      "execution_count": null,
      "outputs": []
    },
    {
      "cell_type": "code",
      "metadata": {
        "id": "wcdW8bu9O3_H",
        "outputId": "b08371ac-4877-4e54-bf94-82309b730e90"
      },
      "source": [
        "train_data.describe()"
      ],
      "execution_count": null,
      "outputs": [
        {
          "output_type": "execute_result",
          "data": {
            "text/html": [
              "<div>\n",
              "<style scoped>\n",
              "    .dataframe tbody tr th:only-of-type {\n",
              "        vertical-align: middle;\n",
              "    }\n",
              "\n",
              "    .dataframe tbody tr th {\n",
              "        vertical-align: top;\n",
              "    }\n",
              "\n",
              "    .dataframe thead th {\n",
              "        text-align: right;\n",
              "    }\n",
              "</style>\n",
              "<table border=\"1\" class=\"dataframe\">\n",
              "  <thead>\n",
              "    <tr style=\"text-align: right;\">\n",
              "      <th></th>\n",
              "      <th>id</th>\n",
              "      <th>acousticness</th>\n",
              "      <th>danceability</th>\n",
              "      <th>energy</th>\n",
              "      <th>instrumentalness</th>\n",
              "      <th>key</th>\n",
              "      <th>liveness</th>\n",
              "      <th>loudness</th>\n",
              "      <th>speechiness</th>\n",
              "      <th>tempo</th>\n",
              "      <th>valence</th>\n",
              "      <th>year</th>\n",
              "      <th>duration-min</th>\n",
              "      <th>popularity</th>\n",
              "      <th>explicit_No</th>\n",
              "      <th>explicit_Yes</th>\n",
              "      <th>mode_Major</th>\n",
              "      <th>mode_Minor</th>\n",
              "      <th>release_month</th>\n",
              "    </tr>\n",
              "  </thead>\n",
              "  <tbody>\n",
              "    <tr>\n",
              "      <td>count</td>\n",
              "      <td>8228.000000</td>\n",
              "      <td>8228.000000</td>\n",
              "      <td>8228.000000</td>\n",
              "      <td>8228.000000</td>\n",
              "      <td>8228.000000</td>\n",
              "      <td>8228.000000</td>\n",
              "      <td>8228.000000</td>\n",
              "      <td>8228.000000</td>\n",
              "      <td>8228.000000</td>\n",
              "      <td>8228.000000</td>\n",
              "      <td>8228.000000</td>\n",
              "      <td>8228.000000</td>\n",
              "      <td>8228.000000</td>\n",
              "      <td>8228.000000</td>\n",
              "      <td>8228.000000</td>\n",
              "      <td>8228.000000</td>\n",
              "      <td>8228.000000</td>\n",
              "      <td>8228.000000</td>\n",
              "      <td>8228.000000</td>\n",
              "    </tr>\n",
              "    <tr>\n",
              "      <td>mean</td>\n",
              "      <td>8098.652042</td>\n",
              "      <td>0.425265</td>\n",
              "      <td>0.555895</td>\n",
              "      <td>0.525297</td>\n",
              "      <td>0.148102</td>\n",
              "      <td>0.476367</td>\n",
              "      <td>0.201539</td>\n",
              "      <td>0.727197</td>\n",
              "      <td>0.096535</td>\n",
              "      <td>0.548532</td>\n",
              "      <td>0.524472</td>\n",
              "      <td>0.641230</td>\n",
              "      <td>0.059103</td>\n",
              "      <td>2.499514</td>\n",
              "      <td>0.892319</td>\n",
              "      <td>0.107681</td>\n",
              "      <td>0.693000</td>\n",
              "      <td>0.307000</td>\n",
              "      <td>4.261424</td>\n",
              "    </tr>\n",
              "    <tr>\n",
              "      <td>std</td>\n",
              "      <td>4685.544913</td>\n",
              "      <td>0.365819</td>\n",
              "      <td>0.175541</td>\n",
              "      <td>0.261506</td>\n",
              "      <td>0.296930</td>\n",
              "      <td>0.320413</td>\n",
              "      <td>0.175186</td>\n",
              "      <td>0.128034</td>\n",
              "      <td>0.154037</td>\n",
              "      <td>0.140693</td>\n",
              "      <td>0.256658</td>\n",
              "      <td>0.255613</td>\n",
              "      <td>0.033913</td>\n",
              "      <td>1.177304</td>\n",
              "      <td>0.309996</td>\n",
              "      <td>0.309996</td>\n",
              "      <td>0.461278</td>\n",
              "      <td>0.461278</td>\n",
              "      <td>3.936420</td>\n",
              "    </tr>\n",
              "    <tr>\n",
              "      <td>min</td>\n",
              "      <td>1.000000</td>\n",
              "      <td>0.000001</td>\n",
              "      <td>0.000000</td>\n",
              "      <td>0.000020</td>\n",
              "      <td>0.000000</td>\n",
              "      <td>0.000000</td>\n",
              "      <td>0.014700</td>\n",
              "      <td>0.000000</td>\n",
              "      <td>0.000000</td>\n",
              "      <td>0.000000</td>\n",
              "      <td>0.000000</td>\n",
              "      <td>0.000000</td>\n",
              "      <td>0.000000</td>\n",
              "      <td>1.000000</td>\n",
              "      <td>0.000000</td>\n",
              "      <td>0.000000</td>\n",
              "      <td>0.000000</td>\n",
              "      <td>0.000000</td>\n",
              "      <td>1.000000</td>\n",
              "    </tr>\n",
              "    <tr>\n",
              "      <td>25%</td>\n",
              "      <td>4054.500000</td>\n",
              "      <td>0.057800</td>\n",
              "      <td>0.435000</td>\n",
              "      <td>0.308000</td>\n",
              "      <td>0.000000</td>\n",
              "      <td>0.181818</td>\n",
              "      <td>0.095900</td>\n",
              "      <td>0.656784</td>\n",
              "      <td>0.034600</td>\n",
              "      <td>0.440615</td>\n",
              "      <td>0.322000</td>\n",
              "      <td>0.455446</td>\n",
              "      <td>0.043548</td>\n",
              "      <td>1.000000</td>\n",
              "      <td>1.000000</td>\n",
              "      <td>0.000000</td>\n",
              "      <td>0.000000</td>\n",
              "      <td>0.000000</td>\n",
              "      <td>1.000000</td>\n",
              "    </tr>\n",
              "    <tr>\n",
              "      <td>50%</td>\n",
              "      <td>8082.000000</td>\n",
              "      <td>0.340000</td>\n",
              "      <td>0.568000</td>\n",
              "      <td>0.536000</td>\n",
              "      <td>0.000107</td>\n",
              "      <td>0.454545</td>\n",
              "      <td>0.132000</td>\n",
              "      <td>0.752981</td>\n",
              "      <td>0.045200</td>\n",
              "      <td>0.542343</td>\n",
              "      <td>0.533000</td>\n",
              "      <td>0.673267</td>\n",
              "      <td>0.053226</td>\n",
              "      <td>2.000000</td>\n",
              "      <td>1.000000</td>\n",
              "      <td>0.000000</td>\n",
              "      <td>1.000000</td>\n",
              "      <td>0.000000</td>\n",
              "      <td>2.000000</td>\n",
              "    </tr>\n",
              "    <tr>\n",
              "      <td>75%</td>\n",
              "      <td>12171.250000</td>\n",
              "      <td>0.798000</td>\n",
              "      <td>0.685000</td>\n",
              "      <td>0.742000</td>\n",
              "      <td>0.053800</td>\n",
              "      <td>0.727273</td>\n",
              "      <td>0.254000</td>\n",
              "      <td>0.823163</td>\n",
              "      <td>0.077800</td>\n",
              "      <td>0.633391</td>\n",
              "      <td>0.735000</td>\n",
              "      <td>0.871287</td>\n",
              "      <td>0.067742</td>\n",
              "      <td>3.000000</td>\n",
              "      <td>1.000000</td>\n",
              "      <td>0.000000</td>\n",
              "      <td>1.000000</td>\n",
              "      <td>1.000000</td>\n",
              "      <td>8.000000</td>\n",
              "    </tr>\n",
              "    <tr>\n",
              "      <td>max</td>\n",
              "      <td>16225.000000</td>\n",
              "      <td>0.996000</td>\n",
              "      <td>0.980000</td>\n",
              "      <td>1.000000</td>\n",
              "      <td>1.000000</td>\n",
              "      <td>1.000000</td>\n",
              "      <td>0.994000</td>\n",
              "      <td>1.000000</td>\n",
              "      <td>0.968000</td>\n",
              "      <td>1.000000</td>\n",
              "      <td>0.993000</td>\n",
              "      <td>1.000000</td>\n",
              "      <td>1.000000</td>\n",
              "      <td>5.000000</td>\n",
              "      <td>1.000000</td>\n",
              "      <td>1.000000</td>\n",
              "      <td>1.000000</td>\n",
              "      <td>1.000000</td>\n",
              "      <td>12.000000</td>\n",
              "    </tr>\n",
              "  </tbody>\n",
              "</table>\n",
              "</div>"
            ],
            "text/plain": [
              "                 id  acousticness  danceability       energy  \\\n",
              "count   8228.000000   8228.000000   8228.000000  8228.000000   \n",
              "mean    8098.652042      0.425265      0.555895     0.525297   \n",
              "std     4685.544913      0.365819      0.175541     0.261506   \n",
              "min        1.000000      0.000001      0.000000     0.000020   \n",
              "25%     4054.500000      0.057800      0.435000     0.308000   \n",
              "50%     8082.000000      0.340000      0.568000     0.536000   \n",
              "75%    12171.250000      0.798000      0.685000     0.742000   \n",
              "max    16225.000000      0.996000      0.980000     1.000000   \n",
              "\n",
              "       instrumentalness          key     liveness     loudness  speechiness  \\\n",
              "count       8228.000000  8228.000000  8228.000000  8228.000000  8228.000000   \n",
              "mean           0.148102     0.476367     0.201539     0.727197     0.096535   \n",
              "std            0.296930     0.320413     0.175186     0.128034     0.154037   \n",
              "min            0.000000     0.000000     0.014700     0.000000     0.000000   \n",
              "25%            0.000000     0.181818     0.095900     0.656784     0.034600   \n",
              "50%            0.000107     0.454545     0.132000     0.752981     0.045200   \n",
              "75%            0.053800     0.727273     0.254000     0.823163     0.077800   \n",
              "max            1.000000     1.000000     0.994000     1.000000     0.968000   \n",
              "\n",
              "             tempo      valence         year  duration-min   popularity  \\\n",
              "count  8228.000000  8228.000000  8228.000000   8228.000000  8228.000000   \n",
              "mean      0.548532     0.524472     0.641230      0.059103     2.499514   \n",
              "std       0.140693     0.256658     0.255613      0.033913     1.177304   \n",
              "min       0.000000     0.000000     0.000000      0.000000     1.000000   \n",
              "25%       0.440615     0.322000     0.455446      0.043548     1.000000   \n",
              "50%       0.542343     0.533000     0.673267      0.053226     2.000000   \n",
              "75%       0.633391     0.735000     0.871287      0.067742     3.000000   \n",
              "max       1.000000     0.993000     1.000000      1.000000     5.000000   \n",
              "\n",
              "       explicit_No  explicit_Yes   mode_Major   mode_Minor  release_month  \n",
              "count  8228.000000   8228.000000  8228.000000  8228.000000    8228.000000  \n",
              "mean      0.892319      0.107681     0.693000     0.307000       4.261424  \n",
              "std       0.309996      0.309996     0.461278     0.461278       3.936420  \n",
              "min       0.000000      0.000000     0.000000     0.000000       1.000000  \n",
              "25%       1.000000      0.000000     0.000000     0.000000       1.000000  \n",
              "50%       1.000000      0.000000     1.000000     0.000000       2.000000  \n",
              "75%       1.000000      0.000000     1.000000     1.000000       8.000000  \n",
              "max       1.000000      1.000000     1.000000     1.000000      12.000000  "
            ]
          },
          "metadata": {
            "tags": []
          },
          "execution_count": 15
        }
      ]
    },
    {
      "cell_type": "code",
      "metadata": {
        "id": "A8ONWoV3O3_I",
        "outputId": "72f06688-d845-47c7-f917-3977d44826f7"
      },
      "source": [
        "train_data.corr()"
      ],
      "execution_count": null,
      "outputs": [
        {
          "output_type": "execute_result",
          "data": {
            "text/html": [
              "<div>\n",
              "<style scoped>\n",
              "    .dataframe tbody tr th:only-of-type {\n",
              "        vertical-align: middle;\n",
              "    }\n",
              "\n",
              "    .dataframe tbody tr th {\n",
              "        vertical-align: top;\n",
              "    }\n",
              "\n",
              "    .dataframe thead th {\n",
              "        text-align: right;\n",
              "    }\n",
              "</style>\n",
              "<table border=\"1\" class=\"dataframe\">\n",
              "  <thead>\n",
              "    <tr style=\"text-align: right;\">\n",
              "      <th></th>\n",
              "      <th>id</th>\n",
              "      <th>acousticness</th>\n",
              "      <th>danceability</th>\n",
              "      <th>energy</th>\n",
              "      <th>instrumentalness</th>\n",
              "      <th>key</th>\n",
              "      <th>liveness</th>\n",
              "      <th>loudness</th>\n",
              "      <th>speechiness</th>\n",
              "      <th>tempo</th>\n",
              "      <th>valence</th>\n",
              "      <th>year</th>\n",
              "      <th>duration-min</th>\n",
              "      <th>popularity</th>\n",
              "      <th>explicit_No</th>\n",
              "      <th>explicit_Yes</th>\n",
              "      <th>mode_Major</th>\n",
              "      <th>mode_Minor</th>\n",
              "      <th>release_month</th>\n",
              "    </tr>\n",
              "  </thead>\n",
              "  <tbody>\n",
              "    <tr>\n",
              "      <td>id</td>\n",
              "      <td>1.000000</td>\n",
              "      <td>0.005729</td>\n",
              "      <td>-0.005370</td>\n",
              "      <td>0.012871</td>\n",
              "      <td>0.002173</td>\n",
              "      <td>0.003497</td>\n",
              "      <td>0.009377</td>\n",
              "      <td>0.006878</td>\n",
              "      <td>-0.020027</td>\n",
              "      <td>0.012083</td>\n",
              "      <td>-0.001089</td>\n",
              "      <td>0.016764</td>\n",
              "      <td>0.001533</td>\n",
              "      <td>0.016205</td>\n",
              "      <td>-0.010060</td>\n",
              "      <td>0.010060</td>\n",
              "      <td>0.012413</td>\n",
              "      <td>-0.012413</td>\n",
              "      <td>0.016396</td>\n",
              "    </tr>\n",
              "    <tr>\n",
              "      <td>acousticness</td>\n",
              "      <td>0.005729</td>\n",
              "      <td>1.000000</td>\n",
              "      <td>-0.284294</td>\n",
              "      <td>-0.741091</td>\n",
              "      <td>0.268117</td>\n",
              "      <td>-0.021688</td>\n",
              "      <td>-0.019542</td>\n",
              "      <td>-0.577306</td>\n",
              "      <td>-0.033358</td>\n",
              "      <td>-0.205483</td>\n",
              "      <td>-0.165507</td>\n",
              "      <td>-0.561945</td>\n",
              "      <td>-0.083516</td>\n",
              "      <td>-0.406750</td>\n",
              "      <td>0.228895</td>\n",
              "      <td>-0.228895</td>\n",
              "      <td>0.063701</td>\n",
              "      <td>-0.063701</td>\n",
              "      <td>-0.205331</td>\n",
              "    </tr>\n",
              "    <tr>\n",
              "      <td>danceability</td>\n",
              "      <td>-0.005370</td>\n",
              "      <td>-0.284294</td>\n",
              "      <td>1.000000</td>\n",
              "      <td>0.200797</td>\n",
              "      <td>-0.249341</td>\n",
              "      <td>0.027558</td>\n",
              "      <td>-0.129888</td>\n",
              "      <td>0.285764</td>\n",
              "      <td>0.226361</td>\n",
              "      <td>-0.025053</td>\n",
              "      <td>0.480261</td>\n",
              "      <td>0.218534</td>\n",
              "      <td>-0.105613</td>\n",
              "      <td>0.223650</td>\n",
              "      <td>-0.269242</td>\n",
              "      <td>0.269242</td>\n",
              "      <td>-0.069139</td>\n",
              "      <td>0.069139</td>\n",
              "      <td>0.099096</td>\n",
              "    </tr>\n",
              "    <tr>\n",
              "      <td>energy</td>\n",
              "      <td>0.012871</td>\n",
              "      <td>-0.741091</td>\n",
              "      <td>0.200797</td>\n",
              "      <td>1.000000</td>\n",
              "      <td>-0.211779</td>\n",
              "      <td>0.039223</td>\n",
              "      <td>0.128228</td>\n",
              "      <td>0.783516</td>\n",
              "      <td>-0.078467</td>\n",
              "      <td>0.233692</td>\n",
              "      <td>0.326247</td>\n",
              "      <td>0.493005</td>\n",
              "      <td>0.053472</td>\n",
              "      <td>0.330122</td>\n",
              "      <td>-0.122318</td>\n",
              "      <td>0.122318</td>\n",
              "      <td>-0.062401</td>\n",
              "      <td>0.062401</td>\n",
              "      <td>0.205223</td>\n",
              "    </tr>\n",
              "    <tr>\n",
              "      <td>instrumentalness</td>\n",
              "      <td>0.002173</td>\n",
              "      <td>0.268117</td>\n",
              "      <td>-0.249341</td>\n",
              "      <td>-0.211779</td>\n",
              "      <td>1.000000</td>\n",
              "      <td>-0.023919</td>\n",
              "      <td>-0.019636</td>\n",
              "      <td>-0.365727</td>\n",
              "      <td>-0.106804</td>\n",
              "      <td>-0.094795</td>\n",
              "      <td>-0.186937</td>\n",
              "      <td>-0.206235</td>\n",
              "      <td>0.091153</td>\n",
              "      <td>-0.318639</td>\n",
              "      <td>0.144541</td>\n",
              "      <td>-0.144541</td>\n",
              "      <td>-0.048847</td>\n",
              "      <td>0.048847</td>\n",
              "      <td>-0.049331</td>\n",
              "    </tr>\n",
              "    <tr>\n",
              "      <td>key</td>\n",
              "      <td>0.003497</td>\n",
              "      <td>-0.021688</td>\n",
              "      <td>0.027558</td>\n",
              "      <td>0.039223</td>\n",
              "      <td>-0.023919</td>\n",
              "      <td>1.000000</td>\n",
              "      <td>-0.005645</td>\n",
              "      <td>0.031113</td>\n",
              "      <td>0.013958</td>\n",
              "      <td>0.024882</td>\n",
              "      <td>0.035229</td>\n",
              "      <td>0.014463</td>\n",
              "      <td>0.000689</td>\n",
              "      <td>0.020607</td>\n",
              "      <td>-0.013498</td>\n",
              "      <td>0.013498</td>\n",
              "      <td>-0.150925</td>\n",
              "      <td>0.150925</td>\n",
              "      <td>-0.002508</td>\n",
              "    </tr>\n",
              "    <tr>\n",
              "      <td>liveness</td>\n",
              "      <td>0.009377</td>\n",
              "      <td>-0.019542</td>\n",
              "      <td>-0.129888</td>\n",
              "      <td>0.128228</td>\n",
              "      <td>-0.019636</td>\n",
              "      <td>-0.005645</td>\n",
              "      <td>1.000000</td>\n",
              "      <td>0.044751</td>\n",
              "      <td>0.102404</td>\n",
              "      <td>0.005671</td>\n",
              "      <td>0.005192</td>\n",
              "      <td>-0.047339</td>\n",
              "      <td>0.033397</td>\n",
              "      <td>-0.105630</td>\n",
              "      <td>-0.025156</td>\n",
              "      <td>0.025156</td>\n",
              "      <td>0.018865</td>\n",
              "      <td>-0.018865</td>\n",
              "      <td>0.026709</td>\n",
              "    </tr>\n",
              "    <tr>\n",
              "      <td>loudness</td>\n",
              "      <td>0.006878</td>\n",
              "      <td>-0.577306</td>\n",
              "      <td>0.285764</td>\n",
              "      <td>0.783516</td>\n",
              "      <td>-0.365727</td>\n",
              "      <td>0.031113</td>\n",
              "      <td>0.044751</td>\n",
              "      <td>1.000000</td>\n",
              "      <td>-0.150747</td>\n",
              "      <td>0.201363</td>\n",
              "      <td>0.263305</td>\n",
              "      <td>0.510254</td>\n",
              "      <td>0.012396</td>\n",
              "      <td>0.417381</td>\n",
              "      <td>-0.178569</td>\n",
              "      <td>0.178569</td>\n",
              "      <td>-0.038538</td>\n",
              "      <td>0.038538</td>\n",
              "      <td>0.225880</td>\n",
              "    </tr>\n",
              "    <tr>\n",
              "      <td>speechiness</td>\n",
              "      <td>-0.020027</td>\n",
              "      <td>-0.033358</td>\n",
              "      <td>0.226361</td>\n",
              "      <td>-0.078467</td>\n",
              "      <td>-0.106804</td>\n",
              "      <td>0.013958</td>\n",
              "      <td>0.102404</td>\n",
              "      <td>-0.150747</td>\n",
              "      <td>1.000000</td>\n",
              "      <td>-0.005570</td>\n",
              "      <td>0.044037</td>\n",
              "      <td>-0.161473</td>\n",
              "      <td>-0.101921</td>\n",
              "      <td>-0.121290</td>\n",
              "      <td>-0.343695</td>\n",
              "      <td>0.343695</td>\n",
              "      <td>-0.039672</td>\n",
              "      <td>0.039672</td>\n",
              "      <td>0.016633</td>\n",
              "    </tr>\n",
              "    <tr>\n",
              "      <td>tempo</td>\n",
              "      <td>0.012083</td>\n",
              "      <td>-0.205483</td>\n",
              "      <td>-0.025053</td>\n",
              "      <td>0.233692</td>\n",
              "      <td>-0.094795</td>\n",
              "      <td>0.024882</td>\n",
              "      <td>0.005671</td>\n",
              "      <td>0.201363</td>\n",
              "      <td>-0.005570</td>\n",
              "      <td>1.000000</td>\n",
              "      <td>0.129859</td>\n",
              "      <td>0.118897</td>\n",
              "      <td>-0.023283</td>\n",
              "      <td>0.080042</td>\n",
              "      <td>-0.029083</td>\n",
              "      <td>0.029083</td>\n",
              "      <td>0.008792</td>\n",
              "      <td>-0.008792</td>\n",
              "      <td>0.041077</td>\n",
              "    </tr>\n",
              "    <tr>\n",
              "      <td>valence</td>\n",
              "      <td>-0.001089</td>\n",
              "      <td>-0.165507</td>\n",
              "      <td>0.480261</td>\n",
              "      <td>0.326247</td>\n",
              "      <td>-0.186937</td>\n",
              "      <td>0.035229</td>\n",
              "      <td>0.005192</td>\n",
              "      <td>0.263305</td>\n",
              "      <td>0.044037</td>\n",
              "      <td>0.129859</td>\n",
              "      <td>1.000000</td>\n",
              "      <td>-0.090984</td>\n",
              "      <td>-0.160394</td>\n",
              "      <td>-0.000894</td>\n",
              "      <td>0.041794</td>\n",
              "      <td>-0.041794</td>\n",
              "      <td>0.012302</td>\n",
              "      <td>-0.012302</td>\n",
              "      <td>-0.021100</td>\n",
              "    </tr>\n",
              "    <tr>\n",
              "      <td>year</td>\n",
              "      <td>0.016764</td>\n",
              "      <td>-0.561945</td>\n",
              "      <td>0.218534</td>\n",
              "      <td>0.493005</td>\n",
              "      <td>-0.206235</td>\n",
              "      <td>0.014463</td>\n",
              "      <td>-0.047339</td>\n",
              "      <td>0.510254</td>\n",
              "      <td>-0.161473</td>\n",
              "      <td>0.118897</td>\n",
              "      <td>-0.090984</td>\n",
              "      <td>1.000000</td>\n",
              "      <td>0.062870</td>\n",
              "      <td>0.632639</td>\n",
              "      <td>-0.261489</td>\n",
              "      <td>0.261489</td>\n",
              "      <td>-0.075996</td>\n",
              "      <td>0.075996</td>\n",
              "      <td>0.317473</td>\n",
              "    </tr>\n",
              "    <tr>\n",
              "      <td>duration-min</td>\n",
              "      <td>0.001533</td>\n",
              "      <td>-0.083516</td>\n",
              "      <td>-0.105613</td>\n",
              "      <td>0.053472</td>\n",
              "      <td>0.091153</td>\n",
              "      <td>0.000689</td>\n",
              "      <td>0.033397</td>\n",
              "      <td>0.012396</td>\n",
              "      <td>-0.101921</td>\n",
              "      <td>-0.023283</td>\n",
              "      <td>-0.160394</td>\n",
              "      <td>0.062870</td>\n",
              "      <td>1.000000</td>\n",
              "      <td>0.004992</td>\n",
              "      <td>0.046743</td>\n",
              "      <td>-0.046743</td>\n",
              "      <td>-0.042179</td>\n",
              "      <td>0.042179</td>\n",
              "      <td>-0.025614</td>\n",
              "    </tr>\n",
              "    <tr>\n",
              "      <td>popularity</td>\n",
              "      <td>0.016205</td>\n",
              "      <td>-0.406750</td>\n",
              "      <td>0.223650</td>\n",
              "      <td>0.330122</td>\n",
              "      <td>-0.318639</td>\n",
              "      <td>0.020607</td>\n",
              "      <td>-0.105630</td>\n",
              "      <td>0.417381</td>\n",
              "      <td>-0.121290</td>\n",
              "      <td>0.080042</td>\n",
              "      <td>-0.000894</td>\n",
              "      <td>0.632639</td>\n",
              "      <td>0.004992</td>\n",
              "      <td>1.000000</td>\n",
              "      <td>-0.257260</td>\n",
              "      <td>0.257260</td>\n",
              "      <td>-0.043921</td>\n",
              "      <td>0.043921</td>\n",
              "      <td>0.199008</td>\n",
              "    </tr>\n",
              "    <tr>\n",
              "      <td>explicit_No</td>\n",
              "      <td>-0.010060</td>\n",
              "      <td>0.228895</td>\n",
              "      <td>-0.269242</td>\n",
              "      <td>-0.122318</td>\n",
              "      <td>0.144541</td>\n",
              "      <td>-0.013498</td>\n",
              "      <td>-0.025156</td>\n",
              "      <td>-0.178569</td>\n",
              "      <td>-0.343695</td>\n",
              "      <td>-0.029083</td>\n",
              "      <td>0.041794</td>\n",
              "      <td>-0.261489</td>\n",
              "      <td>0.046743</td>\n",
              "      <td>-0.257260</td>\n",
              "      <td>1.000000</td>\n",
              "      <td>-1.000000</td>\n",
              "      <td>0.096053</td>\n",
              "      <td>-0.096053</td>\n",
              "      <td>-0.094069</td>\n",
              "    </tr>\n",
              "    <tr>\n",
              "      <td>explicit_Yes</td>\n",
              "      <td>0.010060</td>\n",
              "      <td>-0.228895</td>\n",
              "      <td>0.269242</td>\n",
              "      <td>0.122318</td>\n",
              "      <td>-0.144541</td>\n",
              "      <td>0.013498</td>\n",
              "      <td>0.025156</td>\n",
              "      <td>0.178569</td>\n",
              "      <td>0.343695</td>\n",
              "      <td>0.029083</td>\n",
              "      <td>-0.041794</td>\n",
              "      <td>0.261489</td>\n",
              "      <td>-0.046743</td>\n",
              "      <td>0.257260</td>\n",
              "      <td>-1.000000</td>\n",
              "      <td>1.000000</td>\n",
              "      <td>-0.096053</td>\n",
              "      <td>0.096053</td>\n",
              "      <td>0.094069</td>\n",
              "    </tr>\n",
              "    <tr>\n",
              "      <td>mode_Major</td>\n",
              "      <td>0.012413</td>\n",
              "      <td>0.063701</td>\n",
              "      <td>-0.069139</td>\n",
              "      <td>-0.062401</td>\n",
              "      <td>-0.048847</td>\n",
              "      <td>-0.150925</td>\n",
              "      <td>0.018865</td>\n",
              "      <td>-0.038538</td>\n",
              "      <td>-0.039672</td>\n",
              "      <td>0.008792</td>\n",
              "      <td>0.012302</td>\n",
              "      <td>-0.075996</td>\n",
              "      <td>-0.042179</td>\n",
              "      <td>-0.043921</td>\n",
              "      <td>0.096053</td>\n",
              "      <td>-0.096053</td>\n",
              "      <td>1.000000</td>\n",
              "      <td>-1.000000</td>\n",
              "      <td>-0.050383</td>\n",
              "    </tr>\n",
              "    <tr>\n",
              "      <td>mode_Minor</td>\n",
              "      <td>-0.012413</td>\n",
              "      <td>-0.063701</td>\n",
              "      <td>0.069139</td>\n",
              "      <td>0.062401</td>\n",
              "      <td>0.048847</td>\n",
              "      <td>0.150925</td>\n",
              "      <td>-0.018865</td>\n",
              "      <td>0.038538</td>\n",
              "      <td>0.039672</td>\n",
              "      <td>-0.008792</td>\n",
              "      <td>-0.012302</td>\n",
              "      <td>0.075996</td>\n",
              "      <td>0.042179</td>\n",
              "      <td>0.043921</td>\n",
              "      <td>-0.096053</td>\n",
              "      <td>0.096053</td>\n",
              "      <td>-1.000000</td>\n",
              "      <td>1.000000</td>\n",
              "      <td>0.050383</td>\n",
              "    </tr>\n",
              "    <tr>\n",
              "      <td>release_month</td>\n",
              "      <td>0.016396</td>\n",
              "      <td>-0.205331</td>\n",
              "      <td>0.099096</td>\n",
              "      <td>0.205223</td>\n",
              "      <td>-0.049331</td>\n",
              "      <td>-0.002508</td>\n",
              "      <td>0.026709</td>\n",
              "      <td>0.225880</td>\n",
              "      <td>0.016633</td>\n",
              "      <td>0.041077</td>\n",
              "      <td>-0.021100</td>\n",
              "      <td>0.317473</td>\n",
              "      <td>-0.025614</td>\n",
              "      <td>0.199008</td>\n",
              "      <td>-0.094069</td>\n",
              "      <td>0.094069</td>\n",
              "      <td>-0.050383</td>\n",
              "      <td>0.050383</td>\n",
              "      <td>1.000000</td>\n",
              "    </tr>\n",
              "  </tbody>\n",
              "</table>\n",
              "</div>"
            ],
            "text/plain": [
              "                        id  acousticness  danceability    energy  \\\n",
              "id                1.000000      0.005729     -0.005370  0.012871   \n",
              "acousticness      0.005729      1.000000     -0.284294 -0.741091   \n",
              "danceability     -0.005370     -0.284294      1.000000  0.200797   \n",
              "energy            0.012871     -0.741091      0.200797  1.000000   \n",
              "instrumentalness  0.002173      0.268117     -0.249341 -0.211779   \n",
              "key               0.003497     -0.021688      0.027558  0.039223   \n",
              "liveness          0.009377     -0.019542     -0.129888  0.128228   \n",
              "loudness          0.006878     -0.577306      0.285764  0.783516   \n",
              "speechiness      -0.020027     -0.033358      0.226361 -0.078467   \n",
              "tempo             0.012083     -0.205483     -0.025053  0.233692   \n",
              "valence          -0.001089     -0.165507      0.480261  0.326247   \n",
              "year              0.016764     -0.561945      0.218534  0.493005   \n",
              "duration-min      0.001533     -0.083516     -0.105613  0.053472   \n",
              "popularity        0.016205     -0.406750      0.223650  0.330122   \n",
              "explicit_No      -0.010060      0.228895     -0.269242 -0.122318   \n",
              "explicit_Yes      0.010060     -0.228895      0.269242  0.122318   \n",
              "mode_Major        0.012413      0.063701     -0.069139 -0.062401   \n",
              "mode_Minor       -0.012413     -0.063701      0.069139  0.062401   \n",
              "release_month     0.016396     -0.205331      0.099096  0.205223   \n",
              "\n",
              "                  instrumentalness       key  liveness  loudness  speechiness  \\\n",
              "id                        0.002173  0.003497  0.009377  0.006878    -0.020027   \n",
              "acousticness              0.268117 -0.021688 -0.019542 -0.577306    -0.033358   \n",
              "danceability             -0.249341  0.027558 -0.129888  0.285764     0.226361   \n",
              "energy                   -0.211779  0.039223  0.128228  0.783516    -0.078467   \n",
              "instrumentalness          1.000000 -0.023919 -0.019636 -0.365727    -0.106804   \n",
              "key                      -0.023919  1.000000 -0.005645  0.031113     0.013958   \n",
              "liveness                 -0.019636 -0.005645  1.000000  0.044751     0.102404   \n",
              "loudness                 -0.365727  0.031113  0.044751  1.000000    -0.150747   \n",
              "speechiness              -0.106804  0.013958  0.102404 -0.150747     1.000000   \n",
              "tempo                    -0.094795  0.024882  0.005671  0.201363    -0.005570   \n",
              "valence                  -0.186937  0.035229  0.005192  0.263305     0.044037   \n",
              "year                     -0.206235  0.014463 -0.047339  0.510254    -0.161473   \n",
              "duration-min              0.091153  0.000689  0.033397  0.012396    -0.101921   \n",
              "popularity               -0.318639  0.020607 -0.105630  0.417381    -0.121290   \n",
              "explicit_No               0.144541 -0.013498 -0.025156 -0.178569    -0.343695   \n",
              "explicit_Yes             -0.144541  0.013498  0.025156  0.178569     0.343695   \n",
              "mode_Major               -0.048847 -0.150925  0.018865 -0.038538    -0.039672   \n",
              "mode_Minor                0.048847  0.150925 -0.018865  0.038538     0.039672   \n",
              "release_month            -0.049331 -0.002508  0.026709  0.225880     0.016633   \n",
              "\n",
              "                     tempo   valence      year  duration-min  popularity  \\\n",
              "id                0.012083 -0.001089  0.016764      0.001533    0.016205   \n",
              "acousticness     -0.205483 -0.165507 -0.561945     -0.083516   -0.406750   \n",
              "danceability     -0.025053  0.480261  0.218534     -0.105613    0.223650   \n",
              "energy            0.233692  0.326247  0.493005      0.053472    0.330122   \n",
              "instrumentalness -0.094795 -0.186937 -0.206235      0.091153   -0.318639   \n",
              "key               0.024882  0.035229  0.014463      0.000689    0.020607   \n",
              "liveness          0.005671  0.005192 -0.047339      0.033397   -0.105630   \n",
              "loudness          0.201363  0.263305  0.510254      0.012396    0.417381   \n",
              "speechiness      -0.005570  0.044037 -0.161473     -0.101921   -0.121290   \n",
              "tempo             1.000000  0.129859  0.118897     -0.023283    0.080042   \n",
              "valence           0.129859  1.000000 -0.090984     -0.160394   -0.000894   \n",
              "year              0.118897 -0.090984  1.000000      0.062870    0.632639   \n",
              "duration-min     -0.023283 -0.160394  0.062870      1.000000    0.004992   \n",
              "popularity        0.080042 -0.000894  0.632639      0.004992    1.000000   \n",
              "explicit_No      -0.029083  0.041794 -0.261489      0.046743   -0.257260   \n",
              "explicit_Yes      0.029083 -0.041794  0.261489     -0.046743    0.257260   \n",
              "mode_Major        0.008792  0.012302 -0.075996     -0.042179   -0.043921   \n",
              "mode_Minor       -0.008792 -0.012302  0.075996      0.042179    0.043921   \n",
              "release_month     0.041077 -0.021100  0.317473     -0.025614    0.199008   \n",
              "\n",
              "                  explicit_No  explicit_Yes  mode_Major  mode_Minor  \\\n",
              "id                  -0.010060      0.010060    0.012413   -0.012413   \n",
              "acousticness         0.228895     -0.228895    0.063701   -0.063701   \n",
              "danceability        -0.269242      0.269242   -0.069139    0.069139   \n",
              "energy              -0.122318      0.122318   -0.062401    0.062401   \n",
              "instrumentalness     0.144541     -0.144541   -0.048847    0.048847   \n",
              "key                 -0.013498      0.013498   -0.150925    0.150925   \n",
              "liveness            -0.025156      0.025156    0.018865   -0.018865   \n",
              "loudness            -0.178569      0.178569   -0.038538    0.038538   \n",
              "speechiness         -0.343695      0.343695   -0.039672    0.039672   \n",
              "tempo               -0.029083      0.029083    0.008792   -0.008792   \n",
              "valence              0.041794     -0.041794    0.012302   -0.012302   \n",
              "year                -0.261489      0.261489   -0.075996    0.075996   \n",
              "duration-min         0.046743     -0.046743   -0.042179    0.042179   \n",
              "popularity          -0.257260      0.257260   -0.043921    0.043921   \n",
              "explicit_No          1.000000     -1.000000    0.096053   -0.096053   \n",
              "explicit_Yes        -1.000000      1.000000   -0.096053    0.096053   \n",
              "mode_Major           0.096053     -0.096053    1.000000   -1.000000   \n",
              "mode_Minor          -0.096053      0.096053   -1.000000    1.000000   \n",
              "release_month       -0.094069      0.094069   -0.050383    0.050383   \n",
              "\n",
              "                  release_month  \n",
              "id                     0.016396  \n",
              "acousticness          -0.205331  \n",
              "danceability           0.099096  \n",
              "energy                 0.205223  \n",
              "instrumentalness      -0.049331  \n",
              "key                   -0.002508  \n",
              "liveness               0.026709  \n",
              "loudness               0.225880  \n",
              "speechiness            0.016633  \n",
              "tempo                  0.041077  \n",
              "valence               -0.021100  \n",
              "year                   0.317473  \n",
              "duration-min          -0.025614  \n",
              "popularity             0.199008  \n",
              "explicit_No           -0.094069  \n",
              "explicit_Yes           0.094069  \n",
              "mode_Major            -0.050383  \n",
              "mode_Minor             0.050383  \n",
              "release_month          1.000000  "
            ]
          },
          "metadata": {
            "tags": []
          },
          "execution_count": 16
        }
      ]
    },
    {
      "cell_type": "code",
      "metadata": {
        "id": "jtld0OB7O3_L",
        "outputId": "0b9f04ca-a7dd-4e3e-b434-e54827da5bae"
      },
      "source": [
        "sns.boxplot(x = train_data['popularity'],y= train_data['danceability'])"
      ],
      "execution_count": null,
      "outputs": [
        {
          "output_type": "execute_result",
          "data": {
            "text/plain": [
              "<matplotlib.axes._subplots.AxesSubplot at 0x220fc0afcc8>"
            ]
          },
          "metadata": {
            "tags": []
          },
          "execution_count": 16
        },
        {
          "output_type": "display_data",
          "data": {
            "image/png": "[encoded data removed]",
            "text/plain": [
              "<Figure size 432x288 with 1 Axes>"
            ]
          },
          "metadata": {
            "tags": [],
            "needs_background": "light"
          }
        }
      ]
    },
    {
      "cell_type": "code",
      "metadata": {
        "id": "5nyY9Kr_O3_N",
        "outputId": "5907ab92-7799-44c8-bb92-9746a5aeccd8"
      },
      "source": [
        "sns.boxplot(x = train_data['popularity'],y= train_data['acousticness'])"
      ],
      "execution_count": null,
      "outputs": [
        {
          "output_type": "execute_result",
          "data": {
            "text/plain": [
              "<matplotlib.axes._subplots.AxesSubplot at 0x220fe1fc048>"
            ]
          },
          "metadata": {
            "tags": []
          },
          "execution_count": 17
        },
        {
          "output_type": "display_data",
          "data": {
            "image/png": "[encoded data removed]",
            "text/plain": [
              "<Figure size 432x288 with 1 Axes>"
            ]
          },
          "metadata": {
            "tags": [],
            "needs_background": "light"
          }
        }
      ]
    },
    {
      "cell_type": "code",
      "metadata": {
        "id": "tIs1yjjpO3_O",
        "outputId": "df5a0b93-7fff-4682-9b37-78800a36992c"
      },
      "source": [
        "sns.boxplot(x = train_data['popularity'],y= train_data['energy'])"
      ],
      "execution_count": null,
      "outputs": [
        {
          "output_type": "execute_result",
          "data": {
            "text/plain": [
              "<matplotlib.axes._subplots.AxesSubplot at 0x220fe2e3cc8>"
            ]
          },
          "metadata": {
            "tags": []
          },
          "execution_count": 18
        },
        {
          "output_type": "display_data",
          "data": {
            "image/png": "[encoded data removed]",
            "text/plain": [
              "<Figure size 432x288 with 1 Axes>"
            ]
          },
          "metadata": {
            "tags": [],
            "needs_background": "light"
          }
        }
      ]
    },
    {
      "cell_type": "code",
      "metadata": {
        "id": "U80MrTEwO3_Q",
        "outputId": "5e2cf84d-6f18-4c17-ffa7-5e30e0175789"
      },
      "source": [
        "sns.boxplot(x = train_data['popularity'],y= train_data['instrumentalness'])"
      ],
      "execution_count": null,
      "outputs": [
        {
          "output_type": "execute_result",
          "data": {
            "text/plain": [
              "<matplotlib.axes._subplots.AxesSubplot at 0x220fe3a3b88>"
            ]
          },
          "metadata": {
            "tags": []
          },
          "execution_count": 19
        },
        {
          "output_type": "display_data",
          "data": {
            "image/png": "[encoded data removed]",
            "text/plain": [
              "<Figure size 432x288 with 1 Axes>"
            ]
          },
          "metadata": {
            "tags": [],
            "needs_background": "light"
          }
        }
      ]
    },
    {
      "cell_type": "code",
      "metadata": {
        "id": "KnpxStxdO3_R",
        "outputId": "053dcec6-e06c-4998-b8db-f397759ee50c"
      },
      "source": [
        "sns.boxplot(x = train_data['popularity'],y= train_data['key'])"
      ],
      "execution_count": null,
      "outputs": [
        {
          "output_type": "execute_result",
          "data": {
            "text/plain": [
              "<matplotlib.axes._subplots.AxesSubplot at 0x220fe379908>"
            ]
          },
          "metadata": {
            "tags": []
          },
          "execution_count": 20
        },
        {
          "output_type": "display_data",
          "data": {
            "image/png": "[encoded data removed]",
            "text/plain": [
              "<Figure size 432x288 with 1 Axes>"
            ]
          },
          "metadata": {
            "tags": [],
            "needs_background": "light"
          }
        }
      ]
    },
    {
      "cell_type": "code",
      "metadata": {
        "id": "j3qwuzOLO3_S",
        "outputId": "25c63575-e98d-46b7-eb1d-808b837f7992"
      },
      "source": [
        "sns.boxplot(x = train_data['popularity'],y= train_data['liveness'])"
      ],
      "execution_count": null,
      "outputs": [
        {
          "output_type": "execute_result",
          "data": {
            "text/plain": [
              "<matplotlib.axes._subplots.AxesSubplot at 0x220fe51ddc8>"
            ]
          },
          "metadata": {
            "tags": []
          },
          "execution_count": 21
        },
        {
          "output_type": "display_data",
          "data": {
            "image/png": "[encoded data removed]",
            "text/plain": [
              "<Figure size 432x288 with 1 Axes>"
            ]
          },
          "metadata": {
            "tags": [],
            "needs_background": "light"
          }
        }
      ]
    },
    {
      "cell_type": "code",
      "metadata": {
        "id": "z7UFg-GAO3_T",
        "outputId": "fd558461-b6a2-431b-f370-e5e59b59dbb9"
      },
      "source": [
        "sns.boxplot(x = train_data['popularity'],y= train_data['loudness'])"
      ],
      "execution_count": null,
      "outputs": [
        {
          "output_type": "execute_result",
          "data": {
            "text/plain": [
              "<matplotlib.axes._subplots.AxesSubplot at 0x220fe5e3e08>"
            ]
          },
          "metadata": {
            "tags": []
          },
          "execution_count": 22
        },
        {
          "output_type": "display_data",
          "data": {
            "image/png": "[encoded data removed]",
            "text/plain": [
              "<Figure size 432x288 with 1 Axes>"
            ]
          },
          "metadata": {
            "tags": [],
            "needs_background": "light"
          }
        }
      ]
    },
    {
      "cell_type": "code",
      "metadata": {
        "id": "EPaRYgK9O3_T",
        "outputId": "5ff86158-dad0-4557-918c-28b10c8ca43d"
      },
      "source": [
        "sns.boxplot(x = train_data['popularity'],y= train_data['speechiness'])"
      ],
      "execution_count": null,
      "outputs": [
        {
          "output_type": "execute_result",
          "data": {
            "text/plain": [
              "<matplotlib.axes._subplots.AxesSubplot at 0x220fe69f248>"
            ]
          },
          "metadata": {
            "tags": []
          },
          "execution_count": 23
        },
        {
          "output_type": "display_data",
          "data": {
            "image/png": "[encoded data removed]",
            "text/plain": [
              "<Figure size 432x288 with 1 Axes>"
            ]
          },
          "metadata": {
            "tags": [],
            "needs_background": "light"
          }
        }
      ]
    },
    {
      "cell_type": "code",
      "metadata": {
        "id": "InEKSFD_O3_U",
        "outputId": "1afbd0f6-acbc-4ac8-9e2d-82a20725f6ef"
      },
      "source": [
        "sns.boxplot(x = train_data['popularity'],y= train_data['tempo'])"
      ],
      "execution_count": null,
      "outputs": [
        {
          "output_type": "execute_result",
          "data": {
            "text/plain": [
              "<matplotlib.axes._subplots.AxesSubplot at 0x220fe765e08>"
            ]
          },
          "metadata": {
            "tags": []
          },
          "execution_count": 24
        },
        {
          "output_type": "display_data",
          "data": {
            "image/png": "[encoded data removed]",
            "text/plain": [
              "<Figure size 432x288 with 1 Axes>"
            ]
          },
          "metadata": {
            "tags": [],
            "needs_background": "light"
          }
        }
      ]
    },
    {
      "cell_type": "code",
      "metadata": {
        "id": "LaGoYCfzO3_V",
        "outputId": "1adec543-5af6-4e95-8af9-d2cd5a344839"
      },
      "source": [
        "sns.boxplot(x = train_data['popularity'],y= train_data['valence'])"
      ],
      "execution_count": null,
      "outputs": [
        {
          "output_type": "execute_result",
          "data": {
            "text/plain": [
              "<matplotlib.axes._subplots.AxesSubplot at 0x220fe801ac8>"
            ]
          },
          "metadata": {
            "tags": []
          },
          "execution_count": 25
        },
        {
          "output_type": "display_data",
          "data": {
            "image/png": "[encoded data removed]",
            "text/plain": [
              "<Figure size 432x288 with 1 Axes>"
            ]
          },
          "metadata": {
            "tags": [],
            "needs_background": "light"
          }
        }
      ]
    },
    {
      "cell_type": "code",
      "metadata": {
        "id": "bTBU1n9kO3_W",
        "outputId": "76a90c24-6aed-4e65-cb58-1400640955eb"
      },
      "source": [
        "sns.boxplot(x = train_data['popularity'],y= train_data['year'])"
      ],
      "execution_count": null,
      "outputs": [
        {
          "output_type": "execute_result",
          "data": {
            "text/plain": [
              "<matplotlib.axes._subplots.AxesSubplot at 0x220fe8d5208>"
            ]
          },
          "metadata": {
            "tags": []
          },
          "execution_count": 26
        },
        {
          "output_type": "display_data",
          "data": {
            "image/png": "[encoded data removed]",
            "text/plain": [
              "<Figure size 432x288 with 1 Axes>"
            ]
          },
          "metadata": {
            "tags": [],
            "needs_background": "light"
          }
        }
      ]
    },
    {
      "cell_type": "code",
      "metadata": {
        "id": "6wOu2Rd-O3_W",
        "outputId": "67821434-2d1b-4ec7-a0ef-c6bca93c0464"
      },
      "source": [
        "sns.boxplot(x = train_data['popularity'],y= train_data['duration-min'])"
      ],
      "execution_count": null,
      "outputs": [
        {
          "output_type": "execute_result",
          "data": {
            "text/plain": [
              "<matplotlib.axes._subplots.AxesSubplot at 0x220fe99a588>"
            ]
          },
          "metadata": {
            "tags": []
          },
          "execution_count": 27
        },
        {
          "output_type": "display_data",
          "data": {
            "image/png": "[encoded data removed]",
            "text/plain": [
              "<Figure size 432x288 with 1 Axes>"
            ]
          },
          "metadata": {
            "tags": [],
            "needs_background": "light"
          }
        }
      ]
    },
    {
      "cell_type": "code",
      "metadata": {
        "id": "2qrcySaVO3_X"
      },
      "source": [
        "#Treating outliers in the data across different columns\n",
        "outlier_columns = [ 'acousticness', 'danceability', 'energy',\n",
        "       'instrumentalness','liveness', 'loudness',\n",
        "        'speechiness', 'tempo', 'year',\n",
        "       'duration-min']\n",
        "from scipy import stats\n",
        "train_data = train_data[np.all(np.abs(stats.zscore(train_data[outlier_columns])) <= 3, axis = 1)]"
      ],
      "execution_count": null,
      "outputs": []
    },
    {
      "cell_type": "code",
      "metadata": {
        "id": "fJRDDN3LO3_Y",
        "outputId": "e3a5d995-a090-4a08-ace9-14798d2dc389"
      },
      "source": [
        "sns.boxplot(x = train_data['popularity'],y= train_data['duration-min'])"
      ],
      "execution_count": null,
      "outputs": [
        {
          "output_type": "execute_result",
          "data": {
            "text/plain": [
              "<matplotlib.axes._subplots.AxesSubplot at 0x220fe1c9648>"
            ]
          },
          "metadata": {
            "tags": []
          },
          "execution_count": 29
        },
        {
          "output_type": "display_data",
          "data": {
            "image/png": "[encoded data removed]",
            "text/plain": [
              "<Figure size 432x288 with 1 Axes>"
            ]
          },
          "metadata": {
            "tags": [],
            "needs_background": "light"
          }
        }
      ]
    },
    {
      "cell_type": "code",
      "metadata": {
        "id": "TLWGYNpjO3_e",
        "outputId": "8f014ead-18aa-4b8d-ffca-7b158eb9c6c2"
      },
      "source": [
        "sns.boxplot(x = train_data['popularity'],y= train_data['year'])"
      ],
      "execution_count": null,
      "outputs": [
        {
          "output_type": "execute_result",
          "data": {
            "text/plain": [
              "<matplotlib.axes._subplots.AxesSubplot at 0x220ffd3d108>"
            ]
          },
          "metadata": {
            "tags": []
          },
          "execution_count": 30
        },
        {
          "output_type": "display_data",
          "data": {
            "image/png": "[encoded data removed]",
            "text/plain": [
              "<Figure size 432x288 with 1 Axes>"
            ]
          },
          "metadata": {
            "tags": [],
            "needs_background": "light"
          }
        }
      ]
    },
    {
      "cell_type": "code",
      "metadata": {
        "id": "1VsNpRGnO3_h",
        "outputId": "3039b02d-d8d6-4621-9679-8d8ea2a21757"
      },
      "source": [
        "sns.boxplot(x = train_data['popularity'],y= train_data['tempo'])"
      ],
      "execution_count": null,
      "outputs": [
        {
          "output_type": "execute_result",
          "data": {
            "text/plain": [
              "<matplotlib.axes._subplots.AxesSubplot at 0x220ffdf22c8>"
            ]
          },
          "metadata": {
            "tags": []
          },
          "execution_count": 31
        },
        {
          "output_type": "display_data",
          "data": {
            "image/png": "[encoded data removed]",
            "text/plain": [
              "<Figure size 432x288 with 1 Axes>"
            ]
          },
          "metadata": {
            "tags": [],
            "needs_background": "light"
          }
        }
      ]
    },
    {
      "cell_type": "code",
      "metadata": {
        "colab": {
          "base_uri": "https://localhost:8080/"
        },
        "id": "e61NYU94O3_k",
        "outputId": "942f4922-8e20-4408-f7c1-b7a9c97d04a4"
      },
      "source": [
        "test_data.shape"
      ],
      "execution_count": null,
      "outputs": [
        {
          "output_type": "execute_result",
          "data": {
            "text/plain": [
              "(4000, 17)"
            ]
          },
          "metadata": {
            "tags": []
          },
          "execution_count": 12
        }
      ]
    },
    {
      "cell_type": "code",
      "metadata": {
        "colab": {
          "base_uri": "https://localhost:8080/",
          "height": 232
        },
        "id": "4WcL1NeAO3_l",
        "outputId": "fdaa42be-8e91-4060-cf3f-45d4595a78fa"
      },
      "source": [
        "#Dropping the irrelevant columns for predicting\n",
        "train_data.drop(columns = ['id','release_date'],inplace = True)\n",
        "train_data.head()"
      ],
      "execution_count": null,
      "outputs": [
        {
          "output_type": "execute_result",
          "data": {
            "text/html": [
              "<div>\n",
              "<style scoped>\n",
              "    .dataframe tbody tr th:only-of-type {\n",
              "        vertical-align: middle;\n",
              "    }\n",
              "\n",
              "    .dataframe tbody tr th {\n",
              "        vertical-align: top;\n",
              "    }\n",
              "\n",
              "    .dataframe thead th {\n",
              "        text-align: right;\n",
              "    }\n",
              "</style>\n",
              "<table border=\"1\" class=\"dataframe\">\n",
              "  <thead>\n",
              "    <tr style=\"text-align: right;\">\n",
              "      <th></th>\n",
              "      <th>acousticness</th>\n",
              "      <th>danceability</th>\n",
              "      <th>energy</th>\n",
              "      <th>instrumentalness</th>\n",
              "      <th>key</th>\n",
              "      <th>liveness</th>\n",
              "      <th>loudness</th>\n",
              "      <th>speechiness</th>\n",
              "      <th>tempo</th>\n",
              "      <th>valence</th>\n",
              "      <th>year</th>\n",
              "      <th>duration-min</th>\n",
              "      <th>popularity</th>\n",
              "      <th>explicit_No</th>\n",
              "      <th>explicit_Yes</th>\n",
              "      <th>mode_Major</th>\n",
              "      <th>mode_Minor</th>\n",
              "      <th>release_month</th>\n",
              "    </tr>\n",
              "  </thead>\n",
              "  <tbody>\n",
              "    <tr>\n",
              "      <th>1</th>\n",
              "      <td>0.855</td>\n",
              "      <td>0.456</td>\n",
              "      <td>0.485</td>\n",
              "      <td>0.08840</td>\n",
              "      <td>0.363636</td>\n",
              "      <td>0.1510</td>\n",
              "      <td>0.740563</td>\n",
              "      <td>0.0437</td>\n",
              "      <td>0.703739</td>\n",
              "      <td>0.859</td>\n",
              "      <td>0.990099</td>\n",
              "      <td>0.035484</td>\n",
              "      <td>2</td>\n",
              "      <td>1</td>\n",
              "      <td>0</td>\n",
              "      <td>1</td>\n",
              "      <td>0</td>\n",
              "      <td>11</td>\n",
              "    </tr>\n",
              "    <tr>\n",
              "      <th>2</th>\n",
              "      <td>0.827</td>\n",
              "      <td>0.495</td>\n",
              "      <td>0.499</td>\n",
              "      <td>0.00000</td>\n",
              "      <td>0.000000</td>\n",
              "      <td>0.4010</td>\n",
              "      <td>0.788380</td>\n",
              "      <td>0.0474</td>\n",
              "      <td>0.499826</td>\n",
              "      <td>0.709</td>\n",
              "      <td>0.297030</td>\n",
              "      <td>0.038710</td>\n",
              "      <td>1</td>\n",
              "      <td>1</td>\n",
              "      <td>0</td>\n",
              "      <td>0</td>\n",
              "      <td>1</td>\n",
              "      <td>1</td>\n",
              "    </tr>\n",
              "    <tr>\n",
              "      <th>3</th>\n",
              "      <td>0.654</td>\n",
              "      <td>0.643</td>\n",
              "      <td>0.469</td>\n",
              "      <td>0.10800</td>\n",
              "      <td>0.636364</td>\n",
              "      <td>0.2180</td>\n",
              "      <td>0.602746</td>\n",
              "      <td>0.0368</td>\n",
              "      <td>0.387055</td>\n",
              "      <td>0.964</td>\n",
              "      <td>0.534653</td>\n",
              "      <td>0.035484</td>\n",
              "      <td>2</td>\n",
              "      <td>1</td>\n",
              "      <td>0</td>\n",
              "      <td>1</td>\n",
              "      <td>0</td>\n",
              "      <td>4</td>\n",
              "    </tr>\n",
              "    <tr>\n",
              "      <th>4</th>\n",
              "      <td>0.738</td>\n",
              "      <td>0.705</td>\n",
              "      <td>0.311</td>\n",
              "      <td>0.00000</td>\n",
              "      <td>0.454545</td>\n",
              "      <td>0.3220</td>\n",
              "      <td>0.686620</td>\n",
              "      <td>0.0488</td>\n",
              "      <td>0.542662</td>\n",
              "      <td>0.785</td>\n",
              "      <td>0.524752</td>\n",
              "      <td>0.051613</td>\n",
              "      <td>3</td>\n",
              "      <td>1</td>\n",
              "      <td>0</td>\n",
              "      <td>1</td>\n",
              "      <td>0</td>\n",
              "      <td>1</td>\n",
              "    </tr>\n",
              "    <tr>\n",
              "      <th>5</th>\n",
              "      <td>0.898</td>\n",
              "      <td>0.498</td>\n",
              "      <td>0.442</td>\n",
              "      <td>0.00319</td>\n",
              "      <td>0.909091</td>\n",
              "      <td>0.0974</td>\n",
              "      <td>0.753826</td>\n",
              "      <td>0.0337</td>\n",
              "      <td>0.507300</td>\n",
              "      <td>0.355</td>\n",
              "      <td>0.475248</td>\n",
              "      <td>0.038710</td>\n",
              "      <td>2</td>\n",
              "      <td>1</td>\n",
              "      <td>0</td>\n",
              "      <td>1</td>\n",
              "      <td>0</td>\n",
              "      <td>1</td>\n",
              "    </tr>\n",
              "  </tbody>\n",
              "</table>\n",
              "</div>"
            ],
            "text/plain": [
              "   acousticness  danceability  energy  ...  mode_Major  mode_Minor  release_month\n",
              "1         0.855         0.456   0.485  ...           1           0             11\n",
              "2         0.827         0.495   0.499  ...           0           1              1\n",
              "3         0.654         0.643   0.469  ...           1           0              4\n",
              "4         0.738         0.705   0.311  ...           1           0              1\n",
              "5         0.898         0.498   0.442  ...           1           0              1\n",
              "\n",
              "[5 rows x 18 columns]"
            ]
          },
          "metadata": {
            "tags": []
          },
          "execution_count": 13
        }
      ]
    },
    {
      "cell_type": "markdown",
      "metadata": {
        "id": "8BNo7dVBO3_m"
      },
      "source": [
        "## Feature Selection"
      ]
    },
    {
      "cell_type": "code",
      "metadata": {
        "id": "Dc_2ujxiO3_n",
        "outputId": "d8131027-4b7e-4f67-b3be-4f1dee21d74e"
      },
      "source": [
        "plt.figure(figsize = (15,15))\n",
        "sns.set\n",
        "sns.heatmap(train_data.corr(),annot = True)\n"
      ],
      "execution_count": null,
      "outputs": [
        {
          "output_type": "execute_result",
          "data": {
            "text/plain": [
              "<matplotlib.axes._subplots.AxesSubplot at 0x2abf79a9cc8>"
            ]
          },
          "metadata": {
            "tags": []
          },
          "execution_count": 20
        },
        {
          "output_type": "display_data",
          "data": {
            "image/png": "[encoded data removed]",
            "text/plain": [
              "<Figure size 1080x1080 with 2 Axes>"
            ]
          },
          "metadata": {
            "tags": [],
            "needs_background": "light"
          }
        }
      ]
    },
    {
      "cell_type": "code",
      "metadata": {
        "id": "vpM5hzHjO3_n",
        "outputId": "aa4455e9-6b2d-4748-c624-038a2c8becef"
      },
      "source": [
        "train_data.head()"
      ],
      "execution_count": null,
      "outputs": [
        {
          "output_type": "execute_result",
          "data": {
            "text/html": [
              "<div>\n",
              "<style scoped>\n",
              "    .dataframe tbody tr th:only-of-type {\n",
              "        vertical-align: middle;\n",
              "    }\n",
              "\n",
              "    .dataframe tbody tr th {\n",
              "        vertical-align: top;\n",
              "    }\n",
              "\n",
              "    .dataframe thead th {\n",
              "        text-align: right;\n",
              "    }\n",
              "</style>\n",
              "<table border=\"1\" class=\"dataframe\">\n",
              "  <thead>\n",
              "    <tr style=\"text-align: right;\">\n",
              "      <th></th>\n",
              "      <th>acousticness</th>\n",
              "      <th>danceability</th>\n",
              "      <th>energy</th>\n",
              "      <th>instrumentalness</th>\n",
              "      <th>key</th>\n",
              "      <th>liveness</th>\n",
              "      <th>loudness</th>\n",
              "      <th>speechiness</th>\n",
              "      <th>tempo</th>\n",
              "      <th>valence</th>\n",
              "      <th>year</th>\n",
              "      <th>duration-min</th>\n",
              "      <th>popularity</th>\n",
              "      <th>explicit_No</th>\n",
              "      <th>explicit_Yes</th>\n",
              "      <th>mode_Major</th>\n",
              "      <th>mode_Minor</th>\n",
              "      <th>release_month</th>\n",
              "    </tr>\n",
              "  </thead>\n",
              "  <tbody>\n",
              "    <tr>\n",
              "      <td>1</td>\n",
              "      <td>0.855</td>\n",
              "      <td>0.456</td>\n",
              "      <td>0.485</td>\n",
              "      <td>0.08840</td>\n",
              "      <td>0.363636</td>\n",
              "      <td>0.1510</td>\n",
              "      <td>0.740563</td>\n",
              "      <td>0.0437</td>\n",
              "      <td>0.703739</td>\n",
              "      <td>0.859</td>\n",
              "      <td>0.990099</td>\n",
              "      <td>0.035484</td>\n",
              "      <td>2</td>\n",
              "      <td>1</td>\n",
              "      <td>0</td>\n",
              "      <td>1</td>\n",
              "      <td>0</td>\n",
              "      <td>11</td>\n",
              "    </tr>\n",
              "    <tr>\n",
              "      <td>2</td>\n",
              "      <td>0.827</td>\n",
              "      <td>0.495</td>\n",
              "      <td>0.499</td>\n",
              "      <td>0.00000</td>\n",
              "      <td>0.000000</td>\n",
              "      <td>0.4010</td>\n",
              "      <td>0.788380</td>\n",
              "      <td>0.0474</td>\n",
              "      <td>0.499826</td>\n",
              "      <td>0.709</td>\n",
              "      <td>0.297030</td>\n",
              "      <td>0.038710</td>\n",
              "      <td>1</td>\n",
              "      <td>1</td>\n",
              "      <td>0</td>\n",
              "      <td>0</td>\n",
              "      <td>1</td>\n",
              "      <td>1</td>\n",
              "    </tr>\n",
              "    <tr>\n",
              "      <td>3</td>\n",
              "      <td>0.654</td>\n",
              "      <td>0.643</td>\n",
              "      <td>0.469</td>\n",
              "      <td>0.10800</td>\n",
              "      <td>0.636364</td>\n",
              "      <td>0.2180</td>\n",
              "      <td>0.602746</td>\n",
              "      <td>0.0368</td>\n",
              "      <td>0.387055</td>\n",
              "      <td>0.964</td>\n",
              "      <td>0.534653</td>\n",
              "      <td>0.035484</td>\n",
              "      <td>2</td>\n",
              "      <td>1</td>\n",
              "      <td>0</td>\n",
              "      <td>1</td>\n",
              "      <td>0</td>\n",
              "      <td>4</td>\n",
              "    </tr>\n",
              "    <tr>\n",
              "      <td>4</td>\n",
              "      <td>0.738</td>\n",
              "      <td>0.705</td>\n",
              "      <td>0.311</td>\n",
              "      <td>0.00000</td>\n",
              "      <td>0.454545</td>\n",
              "      <td>0.3220</td>\n",
              "      <td>0.686620</td>\n",
              "      <td>0.0488</td>\n",
              "      <td>0.542662</td>\n",
              "      <td>0.785</td>\n",
              "      <td>0.524752</td>\n",
              "      <td>0.051613</td>\n",
              "      <td>3</td>\n",
              "      <td>1</td>\n",
              "      <td>0</td>\n",
              "      <td>1</td>\n",
              "      <td>0</td>\n",
              "      <td>1</td>\n",
              "    </tr>\n",
              "    <tr>\n",
              "      <td>5</td>\n",
              "      <td>0.898</td>\n",
              "      <td>0.498</td>\n",
              "      <td>0.442</td>\n",
              "      <td>0.00319</td>\n",
              "      <td>0.909091</td>\n",
              "      <td>0.0974</td>\n",
              "      <td>0.753826</td>\n",
              "      <td>0.0337</td>\n",
              "      <td>0.507300</td>\n",
              "      <td>0.355</td>\n",
              "      <td>0.475248</td>\n",
              "      <td>0.038710</td>\n",
              "      <td>2</td>\n",
              "      <td>1</td>\n",
              "      <td>0</td>\n",
              "      <td>1</td>\n",
              "      <td>0</td>\n",
              "      <td>1</td>\n",
              "    </tr>\n",
              "  </tbody>\n",
              "</table>\n",
              "</div>"
            ],
            "text/plain": [
              "   acousticness  danceability  energy  instrumentalness       key  liveness  \\\n",
              "1         0.855         0.456   0.485           0.08840  0.363636    0.1510   \n",
              "2         0.827         0.495   0.499           0.00000  0.000000    0.4010   \n",
              "3         0.654         0.643   0.469           0.10800  0.636364    0.2180   \n",
              "4         0.738         0.705   0.311           0.00000  0.454545    0.3220   \n",
              "5         0.898         0.498   0.442           0.00319  0.909091    0.0974   \n",
              "\n",
              "   loudness  speechiness     tempo  valence      year  duration-min  \\\n",
              "1  0.740563       0.0437  0.703739    0.859  0.990099      0.035484   \n",
              "2  0.788380       0.0474  0.499826    0.709  0.297030      0.038710   \n",
              "3  0.602746       0.0368  0.387055    0.964  0.534653      0.035484   \n",
              "4  0.686620       0.0488  0.542662    0.785  0.524752      0.051613   \n",
              "5  0.753826       0.0337  0.507300    0.355  0.475248      0.038710   \n",
              "\n",
              "   popularity  explicit_No  explicit_Yes  mode_Major  mode_Minor  \\\n",
              "1           2            1             0           1           0   \n",
              "2           1            1             0           0           1   \n",
              "3           2            1             0           1           0   \n",
              "4           3            1             0           1           0   \n",
              "5           2            1             0           1           0   \n",
              "\n",
              "   release_month  \n",
              "1             11  \n",
              "2              1  \n",
              "3              4  \n",
              "4              1  \n",
              "5              1  "
            ]
          },
          "metadata": {
            "tags": []
          },
          "execution_count": 35
        }
      ]
    },
    {
      "cell_type": "code",
      "metadata": {
        "colab": {
          "base_uri": "https://localhost:8080/"
        },
        "id": "Z2ASM4LGO3_o",
        "outputId": "a8574e9a-7dae-46b2-9e02-25f54dfca0ad"
      },
      "source": [
        "#Selecting features based on correlation matrix\n",
        "selected_features = []\n",
        "for i in train_data.columns:\n",
        "        if(abs(train_data.corr().loc[i,'popularity']) > 0.1):\n",
        "            selected_features.append(i)\n",
        "print(selected_features)"
      ],
      "execution_count": null,
      "outputs": [
        {
          "output_type": "stream",
          "text": [
            "['acousticness', 'danceability', 'energy', 'instrumentalness', 'loudness', 'year', 'popularity', 'explicit_No', 'explicit_Yes', 'release_month']\n"
          ],
          "name": "stdout"
        }
      ]
    },
    {
      "cell_type": "code",
      "metadata": {
        "colab": {
          "base_uri": "https://localhost:8080/"
        },
        "id": "q02qnb4zO3_o",
        "outputId": "d4d39c8c-9437-48f9-f962-a6db0d9ac814"
      },
      "source": [
        "#Removing all the features from the selected features if they are intercorrelated with each other\n",
        "final_features = []\n",
        "for i in selected_features:\n",
        "    for j in selected_features:\n",
        "        if(abs(train_data.corr().loc[i,j]) > 0.5):\n",
        "            if(train_data.corr().loc[i,'popularity'] > train_data.corr().loc[j,'popularity']):\n",
        "                final_features.append(i)\n",
        "            else:\n",
        "                final_features.append(j)\n",
        "final_features = list(set(final_features))\n",
        "final_features = [i for i in final_features if i != 'popularity']\n",
        "print(final_features)"
      ],
      "execution_count": null,
      "outputs": [
        {
          "output_type": "stream",
          "text": [
            "['loudness', 'instrumentalness', 'explicit_No', 'danceability', 'year', 'explicit_Yes', 'release_month', 'acousticness', 'energy']\n"
          ],
          "name": "stdout"
        }
      ]
    },
    {
      "cell_type": "markdown",
      "metadata": {
        "id": "0PQmVF7pO3_p"
      },
      "source": [
        "## Training the Model"
      ]
    },
    {
      "cell_type": "code",
      "metadata": {
        "id": "QiYKGexXO3_p"
      },
      "source": [
        "train_Y = train_data.loc[:,'popularity'].values\n",
        "train_X = train_data.loc[:,final_features].values"
      ],
      "execution_count": null,
      "outputs": []
    },
    {
      "cell_type": "code",
      "metadata": {
        "id": "qFj2IyZxO3_q",
        "outputId": "07c6c537-1f00-400a-dbcb-1d94325583b3"
      },
      "source": [
        "train_data['popularity'].value_counts()"
      ],
      "execution_count": null,
      "outputs": [
        {
          "output_type": "execute_result",
          "data": {
            "text/plain": [
              "2    1938\n",
              "3    1923\n",
              "1    1798\n",
              "4    1705\n",
              "5     262\n",
              "Name: popularity, dtype: int64"
            ]
          },
          "metadata": {
            "tags": []
          },
          "execution_count": 24
        }
      ]
    },
    {
      "cell_type": "code",
      "metadata": {
        "id": "HWOJbiLCO3_q",
        "outputId": "eba672ab-7134-409f-f3e5-0ad569bed9f8"
      },
      "source": [
        "from sklearn.ensemble import RandomForestClassifier\n",
        "classifier = RandomForestClassifier(n_estimators= 944,\n",
        " min_samples_split= 10,\n",
        " min_samples_leaf= 2,\n",
        " max_features= 'sqrt',\n",
        " max_depth= 10,\n",
        " bootstrap= True,random_state = 14)\n",
        "classifier.fit(train_X,train_Y)"
      ],
      "execution_count": null,
      "outputs": [
        {
          "output_type": "execute_result",
          "data": {
            "text/plain": [
              "RandomForestClassifier(max_depth=10, max_features='sqrt', min_samples_leaf=2,\n",
              "                       min_samples_split=10, n_estimators=944, random_state=14)"
            ]
          },
          "metadata": {
            "tags": []
          },
          "execution_count": 131
        }
      ]
    },
    {
      "cell_type": "code",
      "metadata": {
        "id": "oZ9I6t6eO3_r",
        "outputId": "bc4e7237-7c54-48ec-c918-e4a7ff0b9afc"
      },
      "source": [
        "from sklearn.ensemble import GradientBoostingClassifier\n",
        "classifier = GradientBoostingClassifier()\n",
        "classifier.fit(train_X,train_Y)"
      ],
      "execution_count": null,
      "outputs": [
        {
          "output_type": "execute_result",
          "data": {
            "text/plain": [
              "GradientBoostingClassifier()"
            ]
          },
          "metadata": {
            "tags": []
          },
          "execution_count": 62
        }
      ]
    },
    {
      "cell_type": "code",
      "metadata": {
        "id": "mGIvXeP5O3_s",
        "outputId": "6fb04d71-91d4-4f48-f40c-761fecd2a307"
      },
      "source": [
        "from sklearn.linear_model import LogisticRegression\n",
        "classifier = LogisticRegression()\n",
        "classifier.fit(train_X,train_Y)"
      ],
      "execution_count": null,
      "outputs": [
        {
          "output_type": "stream",
          "text": [
            "C:\\Users\\Vineeth\\Anaconda3\\lib\\site-packages\\sklearn\\linear_model\\_logistic.py:765: ConvergenceWarning: lbfgs failed to converge (status=1):\n",
            "STOP: TOTAL NO. of ITERATIONS REACHED LIMIT.\n",
            "\n",
            "Increase the number of iterations (max_iter) or scale the data as shown in:\n",
            "    https://scikit-learn.org/stable/modules/preprocessing.html\n",
            "Please also refer to the documentation for alternative solver options:\n",
            "    https://scikit-learn.org/stable/modules/linear_model.html#logistic-regression\n",
            "  extra_warning_msg=_LOGISTIC_SOLVER_CONVERGENCE_MSG)\n"
          ],
          "name": "stderr"
        },
        {
          "output_type": "execute_result",
          "data": {
            "text/plain": [
              "LogisticRegression()"
            ]
          },
          "metadata": {
            "tags": []
          },
          "execution_count": 65
        }
      ]
    },
    {
      "cell_type": "markdown",
      "metadata": {
        "id": "SRpQsVmpO3_u"
      },
      "source": [
        "## Preprocessing the Testset\n"
      ]
    },
    {
      "cell_type": "code",
      "metadata": {
        "id": "XGeegaSoO3_w"
      },
      "source": [
        "# Onehot encoding for the columns explicit and mode\n",
        "test_data = pd.get_dummies(test_data,columns = ['explicit','mode'])\n",
        "\n",
        "#Extracting the month from release date column\n",
        "test_data['release_month'] = pd.to_datetime(test_data['release_date']).dt.month\n",
        "\n",
        "#Mapping the different labels to different integers\n",
        "popularity_map = {'very low':1 ,'low':2, 'average':3, 'high':4, 'very high':5}\n",
        "test_data['popularity'] = test_data['popularity'].map(popularity_map)\n",
        "\n",
        "#Feature Scaling\n",
        "scaled_features = ['key','loudness','tempo','year','duration-min']\n",
        "for s in scaled_features:\n",
        "    test_data[s] = (test_data[s]-test_data[s].min())/(test_data[s].max()-test_data[s].min())\n",
        "    \n",
        "#Dropping the irrelevant columns for predicting\n",
        "test_data.drop(columns = ['id','release_date'],inplace = True)"
      ],
      "execution_count": null,
      "outputs": []
    },
    {
      "cell_type": "code",
      "metadata": {
        "id": "UgwhTupfO3_x"
      },
      "source": [
        "test_Y = test_data.loc[:,'popularity'].values\n",
        "test_X = test_data.loc[:,final_features].values"
      ],
      "execution_count": null,
      "outputs": []
    },
    {
      "cell_type": "markdown",
      "metadata": {
        "id": "Uz1MI8BgO3_x"
      },
      "source": [
        "## Testing the model on the Test set"
      ]
    },
    {
      "cell_type": "code",
      "metadata": {
        "id": "NMz-WJMyO3_y",
        "outputId": "66e34b6a-a9b8-49a3-a234-053fa21f4778"
      },
      "source": [
        "predictions = classifier.predict(test_X)\n",
        "from sklearn.metrics import accuracy_score,f1_score,confusion_matrix,classification_report\n",
        "print(\"RandomForestClassifier\")\n",
        "print(accuracy_score(test_Y,predictions))\n",
        "print(f1_score(test_Y,predictions,average = 'weighted'))\n",
        "print(confusion_matrix(test_Y,predictions))\n",
        "print(classification_report(test_Y,predictions))"
      ],
      "execution_count": null,
      "outputs": [
        {
          "output_type": "stream",
          "text": [
            "RandomForestClassifier\n",
            "0.56475\n",
            "0.5720822267525554\n",
            "[[821 108  40  59  51]\n",
            " [ 91 608 293  22   8]\n",
            " [ 32 267 402 219   7]\n",
            " [ 38  84 177 353 214]\n",
            " [  3   2   3  23  75]]\n",
            "              precision    recall  f1-score   support\n",
            "\n",
            "           1       0.83      0.76      0.80      1079\n",
            "           2       0.57      0.59      0.58      1022\n",
            "           3       0.44      0.43      0.44       927\n",
            "           4       0.52      0.41      0.46       866\n",
            "           5       0.21      0.71      0.33       106\n",
            "\n",
            "    accuracy                           0.56      4000\n",
            "   macro avg       0.52      0.58      0.52      4000\n",
            "weighted avg       0.59      0.56      0.57      4000\n",
            "\n"
          ],
          "name": "stdout"
        }
      ]
    },
    {
      "cell_type": "code",
      "metadata": {
        "id": "LLypmwZwO3_y",
        "outputId": "05b75997-8700-4614-e7ba-94ad30b02bc5"
      },
      "source": [
        "predictions = classifier.predict(test_X)\n",
        "from sklearn.metrics import accuracy_score,f1_score,confusion_matrix,classification_report\n",
        "print(\"LogisticRegression\")\n",
        "print(accuracy_score(test_Y,predictions))\n",
        "print(f1_score(test_Y,predictions,average = 'weighted'))\n",
        "print(confusion_matrix(test_Y,predictions))\n",
        "print(classification_report(test_Y,predictions))"
      ],
      "execution_count": null,
      "outputs": [
        {
          "output_type": "stream",
          "text": [
            "LogisticRegression\n",
            "0.434\n",
            "0.43828710732111165\n",
            "[[726 162  40  67  84]\n",
            " [323 411 220  47  21]\n",
            " [136 230 266 205  90]\n",
            " [ 49  84 128 256 349]\n",
            " [  3   2   3  21  77]]\n",
            "              precision    recall  f1-score   support\n",
            "\n",
            "           1       0.59      0.67      0.63      1079\n",
            "           2       0.46      0.40      0.43      1022\n",
            "           3       0.40      0.29      0.34       927\n",
            "           4       0.43      0.30      0.35       866\n",
            "           5       0.12      0.73      0.21       106\n",
            "\n",
            "    accuracy                           0.43      4000\n",
            "   macro avg       0.40      0.48      0.39      4000\n",
            "weighted avg       0.47      0.43      0.44      4000\n",
            "\n"
          ],
          "name": "stdout"
        }
      ]
    },
    {
      "cell_type": "code",
      "metadata": {
        "id": "bcXpMqG-O3_0",
        "outputId": "ea4b102d-2d44-4542-db3a-c5eb0d7f1a09"
      },
      "source": [
        "predictions = classifier.predict(test_X)\n",
        "from sklearn.metrics import accuracy_score,f1_score,confusion_matrix,classification_report\n",
        "print(\"GradientBoostingClassifier\")\n",
        "print(accuracy_score(test_Y,predictions))\n",
        "print(f1_score(test_Y,predictions,average = 'weighted'))\n",
        "print(confusion_matrix(test_Y,predictions))\n",
        "print(classification_report(test_Y,predictions))"
      ],
      "execution_count": null,
      "outputs": [
        {
          "output_type": "stream",
          "text": [
            "GradientBoostingClassifier\n",
            "0.5625\n",
            "0.5679595432202965\n",
            "[[834  99  45  55  46]\n",
            " [100 603 272  39   8]\n",
            " [ 34 276 369 238  10]\n",
            " [ 45  95 154 373 199]\n",
            " [  3   2   3  27  71]]\n",
            "              precision    recall  f1-score   support\n",
            "\n",
            "           1       0.82      0.77      0.80      1079\n",
            "           2       0.56      0.59      0.58      1022\n",
            "           3       0.44      0.40      0.42       927\n",
            "           4       0.51      0.43      0.47       866\n",
            "           5       0.21      0.67      0.32       106\n",
            "\n",
            "    accuracy                           0.56      4000\n",
            "   macro avg       0.51      0.57      0.52      4000\n",
            "weighted avg       0.58      0.56      0.57      4000\n",
            "\n"
          ],
          "name": "stdout"
        }
      ]
    },
    {
      "cell_type": "code",
      "metadata": {
        "id": "oKEYVTpaO3_1",
        "outputId": "cf110568-3910-4e88-e343-690f62acdf8c"
      },
      "source": [
        "predictions = classifier.predict(train_X)\n",
        "from sklearn.metrics import accuracy_score,f1_score,confusion_matrix,classification_report\n",
        "print(\"RandomForestClassifier\")\n",
        "print(accuracy_score(train_Y,predictions))\n",
        "print(f1_score(train_Y,predictions,average = 'weighted'))\n",
        "print(confusion_matrix(train_Y,predictions))\n",
        "print(classification_report(train_Y,predictions))"
      ],
      "execution_count": null,
      "outputs": [
        {
          "output_type": "stream",
          "text": [
            "RandomForestClassifier\n",
            "0.7202989771833203\n",
            "0.7167882904858672\n",
            "[[1521  111   44  121    1]\n",
            " [  98 1588  235   16    1]\n",
            " [  43  526 1181  173    0]\n",
            " [  21  239  310 1132    3]\n",
            " [   2   11   10  168   71]]\n",
            "              precision    recall  f1-score   support\n",
            "\n",
            "           1       0.90      0.85      0.87      1798\n",
            "           2       0.64      0.82      0.72      1938\n",
            "           3       0.66      0.61      0.64      1923\n",
            "           4       0.70      0.66      0.68      1705\n",
            "           5       0.93      0.27      0.42       262\n",
            "\n",
            "    accuracy                           0.72      7626\n",
            "   macro avg       0.77      0.64      0.67      7626\n",
            "weighted avg       0.73      0.72      0.72      7626\n",
            "\n"
          ],
          "name": "stdout"
        }
      ]
    },
    {
      "cell_type": "code",
      "metadata": {
        "id": "yM-Np0jmO3_7",
        "outputId": "78ccb33d-a7f3-493e-c4f4-d04dc315b796"
      },
      "source": [
        "from sklearn.tree import DecisionTreeClassifier\n",
        "classifier = DecisionTreeClassifier(random_state= 1)\n",
        "classifier.fit(train_X,train_Y)"
      ],
      "execution_count": null,
      "outputs": [
        {
          "output_type": "execute_result",
          "data": {
            "text/plain": [
              "DecisionTreeClassifier(random_state=1)"
            ]
          },
          "metadata": {
            "tags": []
          },
          "execution_count": 59
        }
      ]
    },
    {
      "cell_type": "code",
      "metadata": {
        "id": "uxsUzcORO3_7",
        "outputId": "ef6e175d-c5ea-486f-aeba-f8fa2a59b773"
      },
      "source": [
        "predictions = classifier.predict(test_X)\n",
        "from sklearn.metrics import accuracy_score,f1_score,confusion_matrix\n",
        "print(\"DecisionTreeClassifier\")\n",
        "print(accuracy_score(test_Y,predictions))\n",
        "print(f1_score(test_Y,predictions,average = 'weighted'))\n",
        "print(confusion_matrix(test_Y,predictions))"
      ],
      "execution_count": null,
      "outputs": [
        {
          "output_type": "stream",
          "text": [
            "DecisionTreeClassifier\n",
            "0.48275\n",
            "0.4954021670918425\n",
            "[[755 143  59  66  56]\n",
            " [ 88 459 314 112  49]\n",
            " [ 67 216 357 235  52]\n",
            " [ 52  92 182 292 248]\n",
            " [  6   5   5  22  68]]\n"
          ],
          "name": "stdout"
        }
      ]
    },
    {
      "cell_type": "code",
      "metadata": {
        "id": "PWq3wR3_O3_8",
        "outputId": "57221273-108b-468f-ab5d-aaae773e1e79"
      },
      "source": [
        "from sklearn.svm import SVC\n",
        "classifier = SVC(kernel = 'rbf')\n",
        "classifier.fit(train_X,train_Y)"
      ],
      "execution_count": null,
      "outputs": [
        {
          "output_type": "execute_result",
          "data": {
            "text/plain": [
              "SVC()"
            ]
          },
          "metadata": {
            "tags": []
          },
          "execution_count": 56
        }
      ]
    },
    {
      "cell_type": "code",
      "metadata": {
        "id": "XdJi4Cr5O3_8",
        "outputId": "feb3bfbb-17f0-478b-ad23-c522b17883d5"
      },
      "source": [
        "predictions = classifier.predict(test_X)\n",
        "from sklearn.metrics import accuracy_score,f1_score,confusion_matrix\n",
        "print(\"Support Vector Machine Classifier\")\n",
        "print(accuracy_score(test_Y,predictions))\n",
        "print(f1_score(test_Y,predictions,average = 'weighted'))\n",
        "print(confusion_matrix(test_Y,predictions))"
      ],
      "execution_count": null,
      "outputs": [
        {
          "output_type": "stream",
          "text": [
            "Support Vector Machine Classifier\n",
            "0.32475\n",
            "0.3025570253688476\n",
            "[[761 147  16  12 143]\n",
            " [323 363  49  13 274]\n",
            " [151 365  38  37 336]\n",
            " [ 51 179  39  46 551]\n",
            " [  3   4   5   3  91]]\n"
          ],
          "name": "stdout"
        }
      ]
    },
    {
      "cell_type": "code",
      "metadata": {
        "id": "NKE3wT9-O3_9",
        "outputId": "9aeb4e05-ad9c-432a-c714-2406d8afb8fe"
      },
      "source": [
        "print(classifier.get_params())"
      ],
      "execution_count": null,
      "outputs": [
        {
          "output_type": "stream",
          "text": [
            "{'bootstrap': True, 'ccp_alpha': 0.0, 'class_weight': None, 'criterion': 'gini', 'max_depth': 10, 'max_features': 'sqrt', 'max_leaf_nodes': None, 'max_samples': None, 'min_impurity_decrease': 0.0, 'min_impurity_split': None, 'min_samples_leaf': 2, 'min_samples_split': 10, 'min_weight_fraction_leaf': 0.0, 'n_estimators': 944, 'n_jobs': None, 'oob_score': False, 'random_state': None, 'verbose': 0, 'warm_start': False}\n"
          ],
          "name": "stdout"
        }
      ]
    },
    {
      "cell_type": "code",
      "metadata": {
        "id": "4Le7KflXO3_9",
        "outputId": "cc82e53d-daae-4f4e-bf79-d16af6182717"
      },
      "source": [
        "# Number of trees in random forest\n",
        "n_estimators = [int(x) for x in np.linspace(start = 100, stop = 2000, num = 10)]\n",
        "# Number of features to consider at every split\n",
        "max_features = ['auto', 'sqrt']\n",
        "# Maximum number of levels in tree\n",
        "max_depth = [int(x) for x in np.linspace(10, 110, num = 11)]\n",
        "max_depth.append(None)\n",
        "# Minimum number of samples required to split a node\n",
        "min_samples_split = [2, 5, 10]\n",
        "# Minimum number of samples required at each leaf node\n",
        "min_samples_leaf = [1, 2, 4]\n",
        "# Method of selecting samples for training each tree\n",
        "bootstrap = [True, False]\n",
        "\n",
        "random_grid = {'n_estimators': n_estimators,\n",
        "               'max_features': max_features,\n",
        "               'max_depth': max_depth,\n",
        "               'min_samples_split': min_samples_split,\n",
        "               'min_samples_leaf': min_samples_leaf,\n",
        "               'bootstrap': bootstrap}\n",
        "print(random_grid)\n"
      ],
      "execution_count": null,
      "outputs": [
        {
          "output_type": "stream",
          "text": [
            "{'n_estimators': [100, 311, 522, 733, 944, 1155, 1366, 1577, 1788, 2000], 'max_features': ['auto', 'sqrt'], 'max_depth': [10, 20, 30, 40, 50, 60, 70, 80, 90, 100, 110, None], 'min_samples_split': [2, 5, 10], 'min_samples_leaf': [1, 2, 4], 'bootstrap': [True, False]}\n"
          ],
          "name": "stdout"
        }
      ]
    },
    {
      "cell_type": "code",
      "metadata": {
        "scrolled": true,
        "id": "HK-iP4O0O3_-",
        "outputId": "ff104c7d-dcc6-41d2-c516-1263d8f69e4d"
      },
      "source": [
        "from sklearn.model_selection import RandomizedSearchCV\n",
        "rf_model = RandomizedSearchCV(estimator = classifier,param_distributions = random_grid,cv=5,n_iter = 100,random_state = 42,verbose = 2)\n",
        "rf_model.fit(train_X,train_Y)"
      ],
      "execution_count": null,
      "outputs": [
        {
          "output_type": "stream",
          "text": [
            "Fitting 5 folds for each of 100 candidates, totalling 500 fits\n",
            "[CV] n_estimators=311, min_samples_split=5, min_samples_leaf=1, max_features=sqrt, max_depth=30, bootstrap=True \n"
          ],
          "name": "stdout"
        },
        {
          "output_type": "stream",
          "text": [
            "[Parallel(n_jobs=1)]: Using backend SequentialBackend with 1 concurrent workers.\n"
          ],
          "name": "stderr"
        },
        {
          "output_type": "stream",
          "text": [
            "[CV]  n_estimators=311, min_samples_split=5, min_samples_leaf=1, max_features=sqrt, max_depth=30, bootstrap=True, total=   4.9s\n",
            "[CV] n_estimators=311, min_samples_split=5, min_samples_leaf=1, max_features=sqrt, max_depth=30, bootstrap=True \n"
          ],
          "name": "stdout"
        },
        {
          "output_type": "stream",
          "text": [
            "[Parallel(n_jobs=1)]: Done   1 out of   1 | elapsed:    4.8s remaining:    0.0s\n"
          ],
          "name": "stderr"
        },
        {
          "output_type": "stream",
          "text": [
            "[CV]  n_estimators=311, min_samples_split=5, min_samples_leaf=1, max_features=sqrt, max_depth=30, bootstrap=True, total=   4.7s\n",
            "[CV] n_estimators=311, min_samples_split=5, min_samples_leaf=1, max_features=sqrt, max_depth=30, bootstrap=True \n",
            "[CV]  n_estimators=311, min_samples_split=5, min_samples_leaf=1, max_features=sqrt, max_depth=30, bootstrap=True, total=   4.6s\n",
            "[CV] n_estimators=311, min_samples_split=5, min_samples_leaf=1, max_features=sqrt, max_depth=30, bootstrap=True \n",
            "[CV]  n_estimators=311, min_samples_split=5, min_samples_leaf=1, max_features=sqrt, max_depth=30, bootstrap=True, total=   4.5s\n",
            "[CV] n_estimators=311, min_samples_split=5, min_samples_leaf=1, max_features=sqrt, max_depth=30, bootstrap=True \n",
            "[CV]  n_estimators=311, min_samples_split=5, min_samples_leaf=1, max_features=sqrt, max_depth=30, bootstrap=True, total=   5.1s\n",
            "[CV] n_estimators=2000, min_samples_split=5, min_samples_leaf=1, max_features=sqrt, max_depth=10, bootstrap=True \n",
            "[CV]  n_estimators=2000, min_samples_split=5, min_samples_leaf=1, max_features=sqrt, max_depth=10, bootstrap=True, total=  25.0s\n",
            "[CV] n_estimators=2000, min_samples_split=5, min_samples_leaf=1, max_features=sqrt, max_depth=10, bootstrap=True \n",
            "[CV]  n_estimators=2000, min_samples_split=5, min_samples_leaf=1, max_features=sqrt, max_depth=10, bootstrap=True, total=  23.9s\n",
            "[CV] n_estimators=2000, min_samples_split=5, min_samples_leaf=1, max_features=sqrt, max_depth=10, bootstrap=True \n",
            "[CV]  n_estimators=2000, min_samples_split=5, min_samples_leaf=1, max_features=sqrt, max_depth=10, bootstrap=True, total=  25.1s\n",
            "[CV] n_estimators=2000, min_samples_split=5, min_samples_leaf=1, max_features=sqrt, max_depth=10, bootstrap=True \n"
          ],
          "name": "stdout"
        }
      ]
    },
    {
      "cell_type": "code",
      "metadata": {
        "id": "k325AMfyO3_-"
      },
      "source": [
        "rf_model.best_params_"
      ],
      "execution_count": null,
      "outputs": []
    },
    {
      "cell_type": "code",
      "metadata": {
        "id": "NiUkva82O4AA",
        "outputId": "d282cfd7-3647-483a-ef82-5fe968723124"
      },
      "source": [
        "predictions = classifier.predict(test_X)\n",
        "from sklearn.metrics import accuracy_score,f1_score,confusion_matrix\n",
        "print(\"Gradient Boosting Classifier\")\n",
        "print(accuracy_score(test_Y,predictions))\n",
        "print(f1_score(test_Y,predictions,average = 'weighted'))\n",
        "print(confusion_matrix(test_Y,predictions))"
      ],
      "execution_count": null,
      "outputs": [
        {
          "output_type": "stream",
          "text": [
            "Gradient Boosting Classifier\n",
            "0.6192229038854806\n",
            "0.6158830967334865\n",
            "[[527  49  23  43   3]\n",
            " [ 78 422 110  10   1]\n",
            " [ 20 211 239  95   1]\n",
            " [ 26  74 123 297  23]\n",
            " [  1   2   4  34  29]]\n"
          ],
          "name": "stdout"
        }
      ]
    },
    {
      "cell_type": "code",
      "metadata": {
        "id": "xwy7fcVJO4AB",
        "outputId": "aa6f03e4-b351-4424-badc-758ecd71de30"
      },
      "source": [
        "predictions = classifier.predict(test_X)\n",
        "from sklearn.metrics import accuracy_score,f1_score,confusion_matrix,classification_report\n",
        "print(\"LogisticRegression\")\n",
        "print(accuracy_score(test_Y,predictions))\n",
        "print(f1_score(test_Y,predictions,average = 'weighted'))\n",
        "print(confusion_matrix(test_Y,predictions))\n",
        "print(classification_report(test_Y,predictions))"
      ],
      "execution_count": null,
      "outputs": [
        {
          "output_type": "stream",
          "text": [
            "LogisticRegression\n",
            "0.5177914110429448\n",
            "0.49924850260855563\n",
            "[[427 109  23  86   0]\n",
            " [183 289 123  26   0]\n",
            " [ 78 153 167 168   0]\n",
            " [ 29  67  64 383   0]\n",
            " [  1   2   2  65   0]]\n",
            "              precision    recall  f1-score   support\n",
            "\n",
            "           1       0.59      0.66      0.63       645\n",
            "           2       0.47      0.47      0.47       621\n",
            "           3       0.44      0.30      0.35       566\n",
            "           4       0.53      0.71      0.60       543\n",
            "           5       0.00      0.00      0.00        70\n",
            "\n",
            "    accuracy                           0.52      2445\n",
            "   macro avg       0.41      0.43      0.41      2445\n",
            "weighted avg       0.49      0.52      0.50      2445\n",
            "\n"
          ],
          "name": "stdout"
        },
        {
          "output_type": "stream",
          "text": [
            "C:\\Users\\Vineeth\\Anaconda3\\lib\\site-packages\\sklearn\\metrics\\_classification.py:1221: UndefinedMetricWarning: Precision and F-score are ill-defined and being set to 0.0 in labels with no predicted samples. Use `zero_division` parameter to control this behavior.\n",
            "  _warn_prf(average, modifier, msg_start, len(result))\n"
          ],
          "name": "stderr"
        }
      ]
    },
    {
      "cell_type": "code",
      "metadata": {
        "id": "8LowkwAGO4AC"
      },
      "source": [
        "from imblearn.over_sampling import SMOTE\n",
        "from imblearn.under_sampling import RandomUnderSampler"
      ],
      "execution_count": null,
      "outputs": []
    },
    {
      "cell_type": "code",
      "metadata": {
        "id": "DuVAKxJ0O4AD",
        "outputId": "48c2a38e-2789-45fc-d9bd-0047fafc2b72"
      },
      "source": [
        "train_X = train_data.loc[:,final_features].values\n",
        "train_Y = train_data.loc[:,'popularity'].values\n",
        "oversampling = SMOTE()\n",
        "undersampler = RandomUnderSampler(random_state = 1)\n",
        "train_X,train_Y = undersampler.fit_resample(train_X,train_Y)\n",
        "train_X.shape"
      ],
      "execution_count": null,
      "outputs": [
        {
          "output_type": "execute_result",
          "data": {
            "text/plain": [
              "(1310, 9)"
            ]
          },
          "metadata": {
            "tags": []
          },
          "execution_count": 28
        }
      ]
    },
    {
      "cell_type": "code",
      "metadata": {
        "id": "ziycw7yzO4AD",
        "outputId": "addf5022-cfa8-4e3e-cad5-cce14f365678"
      },
      "source": [
        "from sklearn.ensemble import RandomForestClassifier\n",
        "classifier = RandomForestClassifier(n_estimators= 944,\n",
        " min_samples_split= 10,\n",
        " min_samples_leaf= 2,\n",
        " max_features= 'sqrt',\n",
        " max_depth= 10,\n",
        " bootstrap= True,random_state = 14)\n",
        "classifier.fit(train_X,train_Y)"
      ],
      "execution_count": null,
      "outputs": [
        {
          "output_type": "execute_result",
          "data": {
            "text/plain": [
              "RandomForestClassifier(max_depth=10, max_features='sqrt', min_samples_leaf=2,\n",
              "                       min_samples_split=10, n_estimators=944, random_state=14)"
            ]
          },
          "metadata": {
            "tags": []
          },
          "execution_count": 42
        }
      ]
    },
    {
      "cell_type": "code",
      "metadata": {
        "id": "19m3m1irO4AE",
        "outputId": "1b04ac02-8eb8-483b-8fe7-4fb75d2b4599"
      },
      "source": [
        "from xgboost import XGBClassifier\n",
        "classifier = XGBClassifier(random_state = 14)\n",
        "classifier.fit(train_X,train_Y)"
      ],
      "execution_count": null,
      "outputs": [
        {
          "output_type": "stream",
          "text": [
            "[15:18:21] WARNING: C:/Users/Administrator/workspace/xgboost-win64_release_1.3.0/src/learner.cc:1061: Starting in XGBoost 1.3.0, the default evaluation metric used with the objective 'multi:softprob' was changed from 'merror' to 'mlogloss'. Explicitly set eval_metric if you'd like to restore the old behavior.\n"
          ],
          "name": "stdout"
        },
        {
          "output_type": "execute_result",
          "data": {
            "text/plain": [
              "XGBClassifier(base_score=0.5, booster='gbtree', colsample_bylevel=1,\n",
              "              colsample_bynode=1, colsample_bytree=1, gamma=0, gpu_id=-1,\n",
              "              importance_type='gain', interaction_constraints='',\n",
              "              learning_rate=0.300000012, max_delta_step=0, max_depth=6,\n",
              "              min_child_weight=1, missing=nan, monotone_constraints='()',\n",
              "              n_estimators=100, n_jobs=8, num_parallel_tree=1,\n",
              "              objective='multi:softprob', random_state=14, reg_alpha=0,\n",
              "              reg_lambda=1, scale_pos_weight=None, subsample=1,\n",
              "              tree_method='exact', validate_parameters=1, verbosity=None)"
            ]
          },
          "metadata": {
            "tags": []
          },
          "execution_count": 32
        }
      ]
    },
    {
      "cell_type": "code",
      "metadata": {
        "id": "HFP4e7YpO4AE",
        "outputId": "7aa16fbb-a8a7-442c-ae42-bfba1d37d38c"
      },
      "source": [
        "pip install graphviz"
      ],
      "execution_count": null,
      "outputs": [
        {
          "output_type": "stream",
          "text": [
            "Requirement already satisfied: graphviz in c:\\users\\vineeth\\anaconda3\\lib\\site-packages (0.16)\n",
            "Note: you may need to restart the kernel to use updated packages.\n"
          ],
          "name": "stdout"
        }
      ]
    },
    {
      "cell_type": "code",
      "metadata": {
        "id": "eG9Jo2e9O4AF",
        "outputId": "405299df-157f-48c9-a161-6c0ddba9e3bc"
      },
      "source": [
        "predictions = classifier.predict(test_X)\n",
        "from sklearn.metrics import accuracy_score,f1_score,confusion_matrix,classification_report\n",
        "print(\"XGB Classifier\")\n",
        "print(accuracy_score(test_Y,predictions))\n",
        "print(f1_score(test_Y,predictions,average = 'weighted'))\n",
        "print(confusion_matrix(test_Y,predictions))\n",
        "print(classification_report(test_Y,predictions))"
      ],
      "execution_count": null,
      "outputs": [
        {
          "output_type": "stream",
          "text": [
            "XGB Classifier\n",
            "0.546\n",
            "0.556560681897661\n",
            "[[804 111  55  61  48]\n",
            " [ 85 546 311  63  17]\n",
            " [ 38 227 394 246  22]\n",
            " [ 28  92 171 369 206]\n",
            " [  1   3   3  28  71]]\n",
            "              precision    recall  f1-score   support\n",
            "\n",
            "           1       0.84      0.75      0.79      1079\n",
            "           2       0.56      0.53      0.55      1022\n",
            "           3       0.42      0.43      0.42       927\n",
            "           4       0.48      0.43      0.45       866\n",
            "           5       0.20      0.67      0.30       106\n",
            "\n",
            "    accuracy                           0.55      4000\n",
            "   macro avg       0.50      0.56      0.50      4000\n",
            "weighted avg       0.58      0.55      0.56      4000\n",
            "\n"
          ],
          "name": "stdout"
        }
      ]
    },
    {
      "cell_type": "code",
      "metadata": {
        "id": "MNBtZRTHO4AF",
        "outputId": "324182cc-066a-449d-e387-f2d7f77d600a"
      },
      "source": [
        "from imblearn.ensemble import EasyEnsembleClassifier\n",
        "easy = EasyEnsembleClassifier()\n",
        "easy.fit(train_X,train_Y)"
      ],
      "execution_count": null,
      "outputs": [
        {
          "output_type": "execute_result",
          "data": {
            "text/plain": [
              "EasyEnsembleClassifier()"
            ]
          },
          "metadata": {
            "tags": []
          },
          "execution_count": 48
        }
      ]
    },
    {
      "cell_type": "code",
      "metadata": {
        "id": "1_qBNND1O4AF",
        "outputId": "67f99938-2954-44fc-f377-898af8839256"
      },
      "source": [
        "predictions = easy.predict(test_X)\n",
        "from sklearn.metrics import accuracy_score,f1_score,confusion_matrix,classification_report\n",
        "print(\"EasyEnsembleClassifier\")\n",
        "print(accuracy_score(test_Y,predictions))\n",
        "print(f1_score(test_Y,predictions,average = 'weighted'))\n",
        "print(confusion_matrix(test_Y,predictions))\n",
        "print(classification_report(test_Y,predictions))"
      ],
      "execution_count": null,
      "outputs": [
        {
          "output_type": "stream",
          "text": [
            "EasyEnsembleClassifier\n",
            "0.352\n",
            "0.3433891554337874\n",
            "[[244 693  22  41  79]\n",
            " [ 83 620 229  63  27]\n",
            " [ 73 324 296 159  75]\n",
            " [ 81 103 131 159 392]\n",
            " [  3   3   3   8  89]]\n",
            "              precision    recall  f1-score   support\n",
            "\n",
            "           1       0.50      0.23      0.31      1079\n",
            "           2       0.36      0.61      0.45      1022\n",
            "           3       0.43      0.32      0.37       927\n",
            "           4       0.37      0.18      0.25       866\n",
            "           5       0.13      0.84      0.23       106\n",
            "\n",
            "    accuracy                           0.35      4000\n",
            "   macro avg       0.36      0.44      0.32      4000\n",
            "weighted avg       0.41      0.35      0.34      4000\n",
            "\n"
          ],
          "name": "stdout"
        }
      ]
    },
    {
      "cell_type": "code",
      "metadata": {
        "id": "cP-bftScO4AG"
      },
      "source": [
        "def get_max_revenue(test_Y,pred_Y):\n",
        "    revenue = 0\n",
        "    left_out = 10000\n",
        "    for i in range(len(test_Y)):\n",
        "        if(test_Y[i] <= pred_Y[i]):\n",
        "            if(left_out >= pred_Y[i]):\n",
        "                left_out = left_out - pred_Y[i]\n",
        "                revenue = revenue + 2*test_Y[i]\n",
        "    print(\"Revenue generated:\"+str(revenue))\n",
        "    print(\"Leftout money:\"+str(left_out))\n",
        "    revenue_score = revenue/np.sum(2*test_Y)\n",
        "    print(\"Revenue Score\"+str(revenue_score))"
      ],
      "execution_count": null,
      "outputs": []
    },
    {
      "cell_type": "code",
      "metadata": {
        "id": "WzFcm_AhO4AG",
        "outputId": "67f5e577-03af-471f-9527-5bf073aad084"
      },
      "source": [
        "get_max_revenue(test_Y,predictions)\n",
        "#For easy ensemble classifier"
      ],
      "execution_count": null,
      "outputs": [
        {
          "output_type": "stream",
          "text": [
            "Revenue generated:14090\n",
            "Leftout money:1644\n"
          ],
          "name": "stdout"
        }
      ]
    },
    {
      "cell_type": "code",
      "metadata": {
        "id": "VSCovRhoO4AG",
        "outputId": "20238c4d-17d0-4a34-d7b0-4e03a30b4685"
      },
      "source": [
        "get_max_revenue(test_Y,predictions)\n",
        "#For Random Forest Classifier"
      ],
      "execution_count": null,
      "outputs": [
        {
          "output_type": "stream",
          "text": [
            "Revenue generated:13612\n",
            "Leftout money:2368\n"
          ],
          "name": "stdout"
        }
      ]
    },
    {
      "cell_type": "code",
      "metadata": {
        "id": "UDrt_5MgO4AH",
        "outputId": "d5e6056a-1a39-4ebb-b8c0-91c322c7f4fc"
      },
      "source": [
        "get_max_revenue(test_Y,predictions)\n",
        "#For Decision Tree Classifier"
      ],
      "execution_count": null,
      "outputs": [
        {
          "output_type": "stream",
          "text": [
            "Revenue generated:13946\n",
            "Leftout money:1466\n"
          ],
          "name": "stdout"
        }
      ]
    },
    {
      "cell_type": "code",
      "metadata": {
        "id": "1KPDCBTnO4AH",
        "outputId": "8e5329a4-fa43-4804-de0f-13969daa6d61"
      },
      "source": [
        "get_max_revenue(test_Y,predictions)\n",
        "#For XGB classifier"
      ],
      "execution_count": null,
      "outputs": [
        {
          "output_type": "stream",
          "text": [
            "Revenue generated:13934\n",
            "Leftout money:2021\n"
          ],
          "name": "stdout"
        }
      ]
    },
    {
      "cell_type": "code",
      "metadata": {
        "id": "HBl2J-QhO4AI",
        "outputId": "3fe82443-e5c7-496d-a519-cfe0a8e1558e"
      },
      "source": [
        "#Gradient Boosting Classifier\n",
        "get_max_revenue(test_Y,predictions)"
      ],
      "execution_count": null,
      "outputs": [
        {
          "output_type": "stream",
          "text": [
            "Revenue generated:13882\n",
            "Leftout money:2169\n"
          ],
          "name": "stdout"
        }
      ]
    },
    {
      "cell_type": "code",
      "metadata": {
        "id": "UEaA0v5hO4AI",
        "outputId": "142a2574-8b14-4b45-af26-f7736627414e"
      },
      "source": [
        "#LogisticRegression\n",
        "get_max_revenue(test_Y,predictions)"
      ],
      "execution_count": null,
      "outputs": [
        {
          "output_type": "stream",
          "text": [
            "Revenue generated:13368\n",
            "Leftout money:1968\n"
          ],
          "name": "stdout"
        }
      ]
    },
    {
      "cell_type": "code",
      "metadata": {
        "id": "MLD6VfkEO4AI",
        "outputId": "bbb81a4b-6c53-4535-fc2f-2e9b7c02fffc"
      },
      "source": [
        "#SupportVectorMachines\n",
        "get_max_revenue(test_Y,predictions)"
      ],
      "execution_count": null,
      "outputs": [
        {
          "output_type": "stream",
          "text": [
            "Revenue generated:13136\n",
            "Leftout money:2230\n"
          ],
          "name": "stdout"
        }
      ]
    },
    {
      "cell_type": "code",
      "metadata": {
        "id": "dgsKhbC6O4AJ",
        "outputId": "6f902576-4a91-4e10-bc26-c070ee65cd53"
      },
      "source": [
        "#Random Forest after oversampling with SMOTE\n",
        "get_max_revenue(test_Y,predictions)"
      ],
      "execution_count": null,
      "outputs": [
        {
          "output_type": "stream",
          "text": [
            "Revenue generated:14226\n",
            "Leftout money:1910\n"
          ],
          "name": "stdout"
        }
      ]
    },
    {
      "cell_type": "code",
      "metadata": {
        "id": "A4AEBbb7O4AK",
        "outputId": "f458ed22-f9d8-4ea2-a626-d607dfd16b38"
      },
      "source": [
        "#XGB Classifier after oversampling with SMOTE\n",
        "get_max_revenue(test_Y,predictions)"
      ],
      "execution_count": null,
      "outputs": [
        {
          "output_type": "stream",
          "text": [
            "Revenue generated:14326\n",
            "Leftout money:1689\n"
          ],
          "name": "stdout"
        }
      ]
    },
    {
      "cell_type": "code",
      "metadata": {
        "id": "fvuNsHMIO4AK",
        "outputId": "c9a75dda-115b-4b0c-970d-599de235c024"
      },
      "source": [
        "#Decision Tree Classifier after oversampling with SMOTE\n",
        "get_max_revenue(test_Y,predictions)"
      ],
      "execution_count": null,
      "outputs": [
        {
          "output_type": "stream",
          "text": [
            "Revenue generated:13896\n",
            "Leftout money:1377\n"
          ],
          "name": "stdout"
        }
      ]
    },
    {
      "cell_type": "code",
      "metadata": {
        "id": "wZpCrH7YO4AK",
        "outputId": "7389d03f-cba1-4565-ee9d-8bd51580e674"
      },
      "source": [
        "#Easy Ensemble Classifier after oversampling with SMOTE\n",
        "get_max_revenue(test_Y,predictions)"
      ],
      "execution_count": null,
      "outputs": [
        {
          "output_type": "stream",
          "text": [
            "Revenue generated:13628\n",
            "Leftout money:1975\n"
          ],
          "name": "stdout"
        }
      ]
    },
    {
      "cell_type": "code",
      "metadata": {
        "id": "gqozccdKO4AL",
        "outputId": "e5d8957e-ce90-483c-98a8-716436263a1e"
      },
      "source": [
        "#Gradient Boosting Classifier after oversampling with SMOTE\n",
        "get_max_revenue(test_Y,predictions)"
      ],
      "execution_count": null,
      "outputs": [
        {
          "output_type": "stream",
          "text": [
            "Revenue generated:14202\n",
            "Leftout money:1900\n"
          ],
          "name": "stdout"
        }
      ]
    },
    {
      "cell_type": "code",
      "metadata": {
        "id": "w9HRSLiQO4AM",
        "outputId": "1952fb44-5000-41c9-9af9-73046bf5011d"
      },
      "source": [
        "#Logistic RegressionClassifier after oversampling with SMOTE\n",
        "get_max_revenue(test_Y,predictions)"
      ],
      "execution_count": null,
      "outputs": [
        {
          "output_type": "stream",
          "text": [
            "Revenue generated:14228\n",
            "Leftout money:1059\n"
          ],
          "name": "stdout"
        }
      ]
    },
    {
      "cell_type": "code",
      "metadata": {
        "id": "D0tusWroO4AM",
        "outputId": "79a3e5bc-cc5b-409b-c5d3-adb3b98ec37c"
      },
      "source": [
        "#Support Vector Classifier after oversampling with SMOTE\n",
        "get_max_revenue(test_Y,predictions)"
      ],
      "execution_count": null,
      "outputs": [
        {
          "output_type": "stream",
          "text": [
            "Revenue generated:14254\n",
            "Leftout money:835\n"
          ],
          "name": "stdout"
        }
      ]
    },
    {
      "cell_type": "code",
      "metadata": {
        "id": "z76S6KpNO4AN",
        "outputId": "06485818-b486-4d69-e58c-91fc76b4b16f"
      },
      "source": [
        "get_max_revenue(test_Y,predictions)\n",
        "#For Random Forest Classifier after undersampling"
      ],
      "execution_count": null,
      "outputs": [
        {
          "output_type": "stream",
          "text": [
            "Revenue generated:14936\n",
            "Leftout money:1155\n",
            "Revenue Score0.7544958577490402\n"
          ],
          "name": "stdout"
        }
      ]
    },
    {
      "cell_type": "code",
      "metadata": {
        "id": "Sy1N0cNmO4AN",
        "outputId": "9b568183-94a2-491c-fa92-114d5eccb519"
      },
      "source": [
        "get_max_revenue(test_Y,predictions)\n",
        "#For easy ensemble classifier with undersampling"
      ],
      "execution_count": null,
      "outputs": [
        {
          "output_type": "stream",
          "text": [
            "Revenue generated:14392\n",
            "Leftout money:491\n",
            "Revenue Score0.727015558698727\n"
          ],
          "name": "stdout"
        }
      ]
    },
    {
      "cell_type": "code",
      "metadata": {
        "id": "qaP9h-74O4AN",
        "outputId": "a7046cfc-251e-4be7-83b7-a99f774cd596"
      },
      "source": [
        "get_max_revenue(test_Y,predictions)\n",
        "#For XGB after undersampling"
      ],
      "execution_count": null,
      "outputs": [
        {
          "output_type": "stream",
          "text": [
            "Revenue generated:15188\n",
            "Leftout money:826\n",
            "Revenue Score0.767225702162053\n"
          ],
          "name": "stdout"
        }
      ]
    },
    {
      "cell_type": "code",
      "metadata": {
        "id": "N5B41xbIO4AO",
        "outputId": "19e8eeac-34c1-4be0-8593-e3804f146c9d"
      },
      "source": [
        "get_max_revenue(test_Y,predictions)\n",
        "#For Support Vector Classifier after undersampling"
      ],
      "execution_count": null,
      "outputs": [
        {
          "output_type": "stream",
          "text": [
            "Revenue generated:13106\n",
            "Leftout money:503\n",
            "Revenue Score0.6620529399878763\n"
          ],
          "name": "stdout"
        }
      ]
    },
    {
      "cell_type": "code",
      "metadata": {
        "id": "ckIZZqILO4AO",
        "outputId": "bfb567dd-09cb-4314-9838-f72900b9d148"
      },
      "source": [
        "get_max_revenue(test_Y,predictions)\n",
        "#For decision tree classifier after undersampling"
      ],
      "execution_count": null,
      "outputs": [
        {
          "output_type": "stream",
          "text": [
            "Revenue generated:14758\n",
            "Leftout money:666\n",
            "Revenue Score0.7455041422509598\n"
          ],
          "name": "stdout"
        }
      ]
    },
    {
      "cell_type": "code",
      "metadata": {
        "id": "kMlR_bKPO4AO",
        "outputId": "d7149e02-6b9d-473b-95e0-5cc0a4894ea3"
      },
      "source": [
        "get_max_revenue(test_Y,predictions)\n",
        "#For gradient Boosting classifier after undersampling"
      ],
      "execution_count": null,
      "outputs": [
        {
          "output_type": "stream",
          "text": [
            "Revenue generated:14834\n",
            "Leftout money:1214\n",
            "Revenue Score0.7493433016771065\n"
          ],
          "name": "stdout"
        }
      ]
    },
    {
      "cell_type": "code",
      "metadata": {
        "id": "7OJMH6WVO4AP",
        "outputId": "f395383f-41e8-4549-c183-9a55ae02ee7c"
      },
      "source": [
        "get_max_revenue(test_Y,predictions)\n",
        "#For Logistic Regression after undersampling"
      ],
      "execution_count": null,
      "outputs": [
        {
          "output_type": "stream",
          "text": [
            "Revenue generated:13930\n",
            "Leftout money:1145\n",
            "Revenue Score0.7036775106082037\n"
          ],
          "name": "stdout"
        }
      ]
    },
    {
      "cell_type": "code",
      "metadata": {
        "id": "YAcpWtRbO4AP",
        "outputId": "6568a304-3ac1-4944-875d-ac517b995f22"
      },
      "source": [
        "2*np.sum(test_Y)"
      ],
      "execution_count": null,
      "outputs": [
        {
          "output_type": "execute_result",
          "data": {
            "text/plain": [
              "19796"
            ]
          },
          "metadata": {
            "tags": []
          },
          "execution_count": 68
        }
      ]
    },
    {
      "cell_type": "code",
      "metadata": {
        "id": "f4rGlCncO4AQ"
      },
      "source": [
        ""
      ],
      "execution_count": null,
      "outputs": []
    }
  ]
}